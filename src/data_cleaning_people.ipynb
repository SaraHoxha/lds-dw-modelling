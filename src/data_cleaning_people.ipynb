{
 "cells": [
  {
   "cell_type": "code",
   "execution_count": null,
   "metadata": {},
   "outputs": [],
   "source": [
    "# Imports\n",
    "from utils.read import read_csv\n",
    "from utils.utils import fill_missing_values\n",
    "from opencage.geocoder import OpenCageGeocode\n"
   ]
  },
  {
   "cell_type": "code",
   "execution_count": null,
   "metadata": {},
   "outputs": [],
   "source": [
    "# Read \"People csv\"\n",
    "people_df = read_csv ('../LDS24 - Data/People.csv', 'PERSON_ID')\n",
    "print(people_df)"
   ]
  },
  {
   "cell_type": "code",
   "execution_count": null,
   "metadata": {},
   "outputs": [],
   "source": [
    "column2defaultUknown = {\n",
    "'CITY': 'UNKNOWN',\n",
    "'SAFETY_EQUIPMENT': 'USAGE UNKNOWN',\n",
    "'AIRBAG_DEPLOYED': 'DEPLOYMENT UNKNOWN',\n",
    "'EJECTION': 'UNKNOWN',\n",
    "'DRIVER_ACTION': 'UNKNOWN',\n",
    "'DRIVER_VISION': 'UNKNOWN',\n",
    "'PHYSICAL CONDITION': 'UNKNOWN' \n",
    "}\n",
    "\n",
    "people_df = fill_missing_values(people_df, column2defaultUknown)\n"
   ]
  }
 ],
 "metadata": {
  "kernelspec": {
   "display_name": "base",
   "language": "python",
   "name": "python3"
  },
  "language_info": {
   "codemirror_mode": {
    "name": "ipython",
    "version": 3
   },
   "file_extension": ".py",
   "mimetype": "text/x-python",
   "name": "python",
   "nbconvert_exporter": "python",
   "pygments_lexer": "ipython3",
   "version": "3.12.7"
  }
 },
 "nbformat": 4,
 "nbformat_minor": 2
}
