{
 "cells": [
  {
   "cell_type": "code",
   "execution_count": 1,
   "metadata": {},
   "outputs": [
    {
     "name": "stderr",
     "output_type": "stream",
     "text": [
      "/opt/anaconda3/lib/python3.12/site-packages/fuzzywuzzy/fuzz.py:11: UserWarning: Using slow pure-python SequenceMatcher. Install python-Levenshtein to remove this warning\n",
      "  warnings.warn('Using slow pure-python SequenceMatcher. Install python-Levenshtein to remove this warning')\n"
     ]
    }
   ],
   "source": [
    "# Imports\n",
    "from utils.read_write import read_csv, to_csv\n",
    "from utils.utils import fill_missing_values, split_date\n",
    "from utils.people_utils import set_age_to_none, set_city_to_unknown, set_state_to_unknown, default_sex_to_U, set_driver_cols_to_none_for_passengers, fix_city_spelling_errors, fill_state_based_on_city"
   ]
  },
  {
   "cell_type": "code",
   "execution_count": 2,
   "metadata": {},
   "outputs": [],
   "source": [
    "# Read \"People csv\"\n",
    "people_df = read_csv ('../data/People.csv', 'PERSON_ID')"
   ]
  },
  {
   "cell_type": "code",
   "execution_count": 3,
   "metadata": {},
   "outputs": [],
   "source": [
    "# Fill missing values for columns that provide a default 'Unknown' value\n",
    "column2defaultUknown = {\n",
    "'CITY': 'UNKNOWN',\n",
    "'SAFETY_EQUIPMENT': 'USAGE UNKNOWN',\n",
    "'AIRBAG_DEPLOYED': 'DEPLOYMENT UNKNOWN',\n",
    "'EJECTION': 'UNKNOWN',\n",
    "'DRIVER_ACTION': 'UNKNOWN',\n",
    "'DRIVER_VISION': 'UNKNOWN',\n",
    "'PHYSICAL_CONDITION': 'UNKNOWN' \n",
    "}\n",
    "\n",
    "people_df_processed = fill_missing_values(people_df, column2defaultUknown)"
   ]
  },
  {
   "cell_type": "code",
   "execution_count": 4,
   "metadata": {},
   "outputs": [],
   "source": [
    "# Make following mapping for 'SEX' values: U & NaN values -> \"U\"(unknown)\n",
    "people_df_processed = default_sex_to_U(people_df_processed)"
   ]
  },
  {
   "cell_type": "code",
   "execution_count": 5,
   "metadata": {},
   "outputs": [],
   "source": [
    "# Add new value 'N/A' ('NON APPLICABLE') for observations that the person_type is passenger and we have missing values on columns that regard the driver ('DRIVER_VISION' & 'DRIVER_ACTION').\n",
    "people_df_processed = set_driver_cols_to_none_for_passengers(people_df_processed)"
   ]
  },
  {
   "cell_type": "code",
   "execution_count": 6,
   "metadata": {},
   "outputs": [],
   "source": [
    "# Set a  None ('') value for 'AGE' for observations when \"AGE\" < 10  and \"PERSON_TYPE\" is \"DRIVER\"\n",
    "people_df_processed = set_age_to_none(people_df_processed)"
   ]
  },
  {
   "cell_type": "code",
   "execution_count": 7,
   "metadata": {},
   "outputs": [],
   "source": [
    "# Split the 'CRASH_DATE' into 'DAY', 'MONTH', 'YEAR', 'TIME' columns\n",
    "date_column = 'CRASH_DATE'\n",
    "people_df_processed =  split_date(people_df_processed, date_column)"
   ]
  },
  {
   "cell_type": "code",
   "execution_count": 8,
   "metadata": {},
   "outputs": [],
   "source": [
    "#Set 'CITY' column have the value 'Unknown' when 'city' has numeric value, length < 2 or starts with UNK\n",
    "people_df_processed = set_city_to_unknown(people_df_processed)"
   ]
  },
  {
   "cell_type": "code",
   "execution_count": 9,
   "metadata": {},
   "outputs": [
    {
     "ename": "KeyboardInterrupt",
     "evalue": "",
     "output_type": "error",
     "traceback": [
      "\u001b[0;31m---------------------------------------------------------------------------\u001b[0m",
      "\u001b[0;31mAttributeError\u001b[0m                            Traceback (most recent call last)",
      "File \u001b[0;32m/opt/anaconda3/lib/python3.12/site-packages/fuzzywuzzy/process.py:108\u001b[0m, in \u001b[0;36mextractWithoutOrder\u001b[0;34m(query, choices, processor, scorer, score_cutoff)\u001b[0m\n\u001b[1;32m    106\u001b[0m \u001b[38;5;28;01mtry\u001b[39;00m:\n\u001b[1;32m    107\u001b[0m     \u001b[38;5;66;03m# See if choices is a dictionary-like object.\u001b[39;00m\n\u001b[0;32m--> 108\u001b[0m     \u001b[38;5;28;01mfor\u001b[39;00m key, choice \u001b[38;5;129;01min\u001b[39;00m choices\u001b[38;5;241m.\u001b[39mitems():\n\u001b[1;32m    109\u001b[0m         processed \u001b[38;5;241m=\u001b[39m pre_processor(processor(choice))\n",
      "\u001b[0;31mAttributeError\u001b[0m: 'dict_keys' object has no attribute 'items'",
      "\nDuring handling of the above exception, another exception occurred:\n",
      "\u001b[0;31mKeyboardInterrupt\u001b[0m                         Traceback (most recent call last)",
      "Cell \u001b[0;32mIn[9], line 3\u001b[0m\n\u001b[1;32m      1\u001b[0m \u001b[38;5;66;03m# Fix spelling errors on 'CITY' column by checking with dataset that contains all cities/state_codes of US.\u001b[39;00m\n\u001b[1;32m      2\u001b[0m us_cities_info \u001b[38;5;241m=\u001b[39m read_csv(\u001b[38;5;124m'\u001b[39m\u001b[38;5;124m../data/us_cities_info.csv\u001b[39m\u001b[38;5;124m'\u001b[39m, \u001b[38;5;124m'\u001b[39m\u001b[38;5;124mCITY\u001b[39m\u001b[38;5;124m'\u001b[39m)\n\u001b[0;32m----> 3\u001b[0m people_df_processed \u001b[38;5;241m=\u001b[39m fix_city_spelling_errors(people_df_processed, us_cities_info\u001b[38;5;241m.\u001b[39mkeys())\n",
      "File \u001b[0;32m~/Desktop/Master/UniPi/Second Year/DSS/lds-dw-modelling/src/utils/people_utils.py:70\u001b[0m, in \u001b[0;36mfix_city_spelling_errors\u001b[0;34m(dataset, valid_cities)\u001b[0m\n\u001b[1;32m     68\u001b[0m     corrected_city \u001b[38;5;241m=\u001b[39m \u001b[38;5;124m'\u001b[39m\u001b[38;5;124mCHICAGO\u001b[39m\u001b[38;5;124m'\u001b[39m\n\u001b[1;32m     69\u001b[0m \u001b[38;5;28;01melse\u001b[39;00m:\n\u001b[0;32m---> 70\u001b[0m     closest_match, score \u001b[38;5;241m=\u001b[39m process\u001b[38;5;241m.\u001b[39mextractOne(city, valid_cities)\n\u001b[1;32m     71\u001b[0m     corrected_city \u001b[38;5;241m=\u001b[39m closest_match \u001b[38;5;28;01mif\u001b[39;00m score \u001b[38;5;241m>\u001b[39m\u001b[38;5;241m=\u001b[39m \u001b[38;5;241m80\u001b[39m \u001b[38;5;28;01melse\u001b[39;00m city\n\u001b[1;32m     73\u001b[0m row[CITY_COL] \u001b[38;5;241m=\u001b[39m corrected_city\n",
      "File \u001b[0;32m/opt/anaconda3/lib/python3.12/site-packages/fuzzywuzzy/process.py:220\u001b[0m, in \u001b[0;36mextractOne\u001b[0;34m(query, choices, processor, scorer, score_cutoff)\u001b[0m\n\u001b[1;32m    218\u001b[0m best_list \u001b[38;5;241m=\u001b[39m extractWithoutOrder(query, choices, processor, scorer, score_cutoff)\n\u001b[1;32m    219\u001b[0m \u001b[38;5;28;01mtry\u001b[39;00m:\n\u001b[0;32m--> 220\u001b[0m     \u001b[38;5;28;01mreturn\u001b[39;00m \u001b[38;5;28mmax\u001b[39m(best_list, key\u001b[38;5;241m=\u001b[39m\u001b[38;5;28;01mlambda\u001b[39;00m i: i[\u001b[38;5;241m1\u001b[39m])\n\u001b[1;32m    221\u001b[0m \u001b[38;5;28;01mexcept\u001b[39;00m \u001b[38;5;167;01mValueError\u001b[39;00m:\n\u001b[1;32m    222\u001b[0m     \u001b[38;5;28;01mreturn\u001b[39;00m \u001b[38;5;28;01mNone\u001b[39;00m\n",
      "File \u001b[0;32m/opt/anaconda3/lib/python3.12/site-packages/fuzzywuzzy/process.py:117\u001b[0m, in \u001b[0;36mextractWithoutOrder\u001b[0;34m(query, choices, processor, scorer, score_cutoff)\u001b[0m\n\u001b[1;32m    115\u001b[0m \u001b[38;5;28;01mfor\u001b[39;00m choice \u001b[38;5;129;01min\u001b[39;00m choices:\n\u001b[1;32m    116\u001b[0m     processed \u001b[38;5;241m=\u001b[39m pre_processor(processor(choice))\n\u001b[0;32m--> 117\u001b[0m     score \u001b[38;5;241m=\u001b[39m scorer(processed_query, processed)\n\u001b[1;32m    118\u001b[0m     \u001b[38;5;28;01mif\u001b[39;00m score \u001b[38;5;241m>\u001b[39m\u001b[38;5;241m=\u001b[39m score_cutoff:\n\u001b[1;32m    119\u001b[0m         \u001b[38;5;28;01myield\u001b[39;00m (choice, score)\n",
      "File \u001b[0;32m/opt/anaconda3/lib/python3.12/site-packages/fuzzywuzzy/fuzz.py:277\u001b[0m, in \u001b[0;36mWRatio\u001b[0;34m(s1, s2, force_ascii, full_process)\u001b[0m\n\u001b[1;32m    274\u001b[0m partial_scale \u001b[38;5;241m=\u001b[39m \u001b[38;5;241m.90\u001b[39m\n\u001b[1;32m    276\u001b[0m base \u001b[38;5;241m=\u001b[39m ratio(p1, p2)\n\u001b[0;32m--> 277\u001b[0m len_ratio \u001b[38;5;241m=\u001b[39m \u001b[38;5;28mfloat\u001b[39m(\u001b[38;5;28mmax\u001b[39m(\u001b[38;5;28mlen\u001b[39m(p1), \u001b[38;5;28mlen\u001b[39m(p2))) \u001b[38;5;241m/\u001b[39m \u001b[38;5;28mmin\u001b[39m(\u001b[38;5;28mlen\u001b[39m(p1), \u001b[38;5;28mlen\u001b[39m(p2))\n\u001b[1;32m    279\u001b[0m \u001b[38;5;66;03m# if strings are similar length, don't use partials\u001b[39;00m\n\u001b[1;32m    280\u001b[0m \u001b[38;5;28;01mif\u001b[39;00m len_ratio \u001b[38;5;241m<\u001b[39m \u001b[38;5;241m1.5\u001b[39m:\n",
      "\u001b[0;31mKeyboardInterrupt\u001b[0m: "
     ]
    }
   ],
   "source": [
    "# Fix spelling errors on 'CITY' column by checking with dataset that contains all cities/state_codes of US.\n",
    "us_cities_info = read_csv('../data/us_cities_info.csv', 'CITY')\n",
    "people_df_processed = fix_city_spelling_errors(people_df_processed, us_cities_info.keys())"
   ]
  },
  {
   "cell_type": "code",
   "execution_count": null,
   "metadata": {},
   "outputs": [],
   "source": [
    "# Make 'STATE' column have the value 'Unknown' when 'CITY' is 'UNKNOWN' or STATE == 'XX'.\n",
    "people_df_processed = set_state_to_unknown(people_df_processed)"
   ]
  },
  {
   "cell_type": "code",
   "execution_count": null,
   "metadata": {},
   "outputs": [],
   "source": [
    "# Use \"CITY\" column to determine \"STATE\" column when the latter is empty. \n",
    "people_df_processed = fill_state_based_on_city(people_df_processed, us_cities_info)"
   ]
  },
  {
   "cell_type": "code",
   "execution_count": null,
   "metadata": {},
   "outputs": [],
   "source": [
    "to_csv(people_df_processed,'../data/People_Processed.csv')"
   ]
  }
 ],
 "metadata": {
  "kernelspec": {
   "display_name": "base",
   "language": "python",
   "name": "python3"
  },
  "language_info": {
   "codemirror_mode": {
    "name": "ipython",
    "version": 3
   },
   "file_extension": ".py",
   "mimetype": "text/x-python",
   "name": "python",
   "nbconvert_exporter": "python",
   "pygments_lexer": "ipython3",
   "version": "3.12.7"
  }
 },
 "nbformat": 4,
 "nbformat_minor": 2
}
