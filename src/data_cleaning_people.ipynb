{
 "cells": [
  {
   "cell_type": "code",
   "execution_count": null,
   "metadata": {},
   "outputs": [],
   "source": [
    "# Imports\n",
    "from utils.read import read_csv\n",
    "from utils.utils import fill_missing_values, split_date\n",
    "from utils.people_utils import default_to_U_for_sex_column, add_value_na_to_driver_cols_for_passengers, set_age_to_none_for_anomalies, fill_state_column_based_on_city\n"
   ]
  },
  {
   "cell_type": "code",
   "execution_count": null,
   "metadata": {},
   "outputs": [],
   "source": [
    "# Read \"People csv\"\n",
    "people_df = read_csv ('../LDS24 - Data/People.csv', 'PERSON_ID')\n",
    "print(people_df)"
   ]
  },
  {
   "cell_type": "code",
   "execution_count": null,
   "metadata": {},
   "outputs": [],
   "source": [
    "# Fill missing values for columns that provide a default 'Unknown' value\n",
    "column2defaultUknown = {\n",
    "'CITY': 'UNKNOWN',\n",
    "'SAFETY_EQUIPMENT': 'USAGE UNKNOWN',\n",
    "'AIRBAG_DEPLOYED': 'DEPLOYMENT UNKNOWN',\n",
    "'EJECTION': 'UNKNOWN',\n",
    "'DRIVER_ACTION': 'UNKNOWN',\n",
    "'DRIVER_VISION': 'UNKNOWN',\n",
    "'PHYSICAL CONDITION': 'UNKNOWN' \n",
    "}\n",
    "\n",
    "people_df = fill_missing_values(people_df, column2defaultUknown)\n"
   ]
  },
  {
   "cell_type": "code",
   "execution_count": null,
   "metadata": {},
   "outputs": [],
   "source": [
    "# Make following mapping for 'SEX' values: U & NaN values -> \"U\"(unknown)\n",
    "\n",
    "people_df = default_to_U_for_sex_column(people_df)"
   ]
  },
  {
   "cell_type": "code",
   "execution_count": null,
   "metadata": {},
   "outputs": [],
   "source": [
    "# Add new value 'N/A' ('NON APPLICABLE') for observations that the person_type is passenger and we have missing values on columns that regard the driver ('DRIVER_VISION' & 'DRIVER_ACTION').\n",
    "\n",
    "people_df = add_value_na_to_driver_cols_for_passengers(people_df)"
   ]
  },
  {
   "cell_type": "code",
   "execution_count": null,
   "metadata": {},
   "outputs": [],
   "source": [
    "# Set a  None ('') value for 'AGE' for observations when \"AGE\" < 10  and \"PERSON_TYPE\" is \"DRIVER\"\n",
    "\n",
    "people_df = set_age_to_none_for_anomalies(people_df)"
   ]
  },
  {
   "cell_type": "code",
   "execution_count": null,
   "metadata": {},
   "outputs": [],
   "source": [
    "# Split the 'CRASH_DATE' into 'DAY', 'MONTH', 'YEAR', 'TIME' columns\n",
    "date_column = 'CRASH_DATE'\n",
    "people_df =  split_date(people_df, date_column)"
   ]
  },
  {
   "cell_type": "code",
   "execution_count": null,
   "metadata": {},
   "outputs": [],
   "source": [
    "# Integrate spatial data based on \"CITY\" column to determine \"STATE\" column when the latter is empty. \n",
    "\n",
    "people_df = fill_state_column_based_on_city(people_df)"
   ]
  }
 ],
 "metadata": {
  "kernelspec": {
   "display_name": "base",
   "language": "python",
   "name": "python3"
  },
  "language_info": {
   "codemirror_mode": {
    "name": "ipython",
    "version": 3
   },
   "file_extension": ".py",
   "mimetype": "text/x-python",
   "name": "python",
   "nbconvert_exporter": "python",
   "pygments_lexer": "ipython3",
   "version": "3.12.7"
  }
 },
 "nbformat": 4,
 "nbformat_minor": 2
}
