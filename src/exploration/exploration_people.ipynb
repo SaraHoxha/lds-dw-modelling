{
 "cells": [
  {
   "cell_type": "code",
   "execution_count": 1,
   "metadata": {},
   "outputs": [],
   "source": [
    "#Imports\n",
    "import pandas as pd\n",
    "import numpy as np\n",
    "import plotly.express as px"
   ]
  },
  {
   "cell_type": "markdown",
   "metadata": {},
   "source": [
    "## PEOPLE DATASET EXPLORATION"
   ]
  },
  {
   "cell_type": "code",
   "execution_count": 2,
   "metadata": {},
   "outputs": [],
   "source": [
    "# Load the csv file\n",
    "people_df = pd.read_csv('../../LDS24 - Data/People.csv')"
   ]
  },
  {
   "cell_type": "code",
   "execution_count": 11,
   "metadata": {},
   "outputs": [
    {
     "name": "stdout",
     "output_type": "stream",
     "text": [
      "Info:\n",
      "<class 'pandas.core.frame.DataFrame'>\n",
      "RangeIndex: 564565 entries, 0 to 564564\n",
      "Data columns (total 19 columns):\n",
      " #   Column                 Non-Null Count   Dtype  \n",
      "---  ------                 --------------   -----  \n",
      " 0   PERSON_ID              564565 non-null  object \n",
      " 1   PERSON_TYPE            564565 non-null  object \n",
      " 2   RD_NO                  564565 non-null  object \n",
      " 3   VEHICLE_ID             553869 non-null  float64\n",
      " 4   CRASH_DATE             564565 non-null  object \n",
      " 5   CITY                   420645 non-null  object \n",
      " 6   STATE                  422589 non-null  object \n",
      " 7   SEX                    557411 non-null  object \n",
      " 8   AGE                    403584 non-null  float64\n",
      " 9   SAFETY_EQUIPMENT       563155 non-null  object \n",
      " 10  AIRBAG_DEPLOYED        554113 non-null  object \n",
      " 11  EJECTION               557860 non-null  object \n",
      " 12  INJURY_CLASSIFICATION  564269 non-null  object \n",
      " 13  DRIVER_ACTION          454799 non-null  object \n",
      " 14  DRIVER_VISION          454681 non-null  object \n",
      " 15  PHYSICAL_CONDITION     455064 non-null  object \n",
      " 16  BAC_RESULT             455732 non-null  object \n",
      " 17  DAMAGE_CATEGORY        564565 non-null  object \n",
      " 18  DAMAGE                 490256 non-null  float64\n",
      "dtypes: float64(3), object(16)\n",
      "memory usage: 81.8+ MB\n",
      "\n",
      "Columns:\n",
      "Index(['PERSON_ID', 'PERSON_TYPE', 'RD_NO', 'VEHICLE_ID', 'CRASH_DATE', 'CITY',\n",
      "       'STATE', 'SEX', 'AGE', 'SAFETY_EQUIPMENT', 'AIRBAG_DEPLOYED',\n",
      "       'EJECTION', 'INJURY_CLASSIFICATION', 'DRIVER_ACTION', 'DRIVER_VISION',\n",
      "       'PHYSICAL_CONDITION', 'BAC_RESULT', 'DAMAGE_CATEGORY', 'DAMAGE'],\n",
      "      dtype='object')\n",
      "\n",
      "Shape:\n",
      "(564565, 19)\n"
     ]
    }
   ],
   "source": [
    "# Print information\n",
    "print('Info:')\n",
    "people_df.info()\n",
    "\n",
    "#Print columns\n",
    "print('\\nColumns:')\n",
    "print(people_df.columns)\n",
    "\n",
    "#Print shape\n",
    "print('\\nShape:')\n",
    "print(people_df.shape)\n"
   ]
  },
  {
   "cell_type": "code",
   "execution_count": null,
   "metadata": {},
   "outputs": [],
   "source": [
    "#Get unique values per non-numeric columns\n",
    "for column in people_df.select_dtypes(exclude=[np.number]):\n",
    "    print(f\"Unique values in {column}:\")\n",
    "    print(people_df[column].unique())\n",
    "    print(\"\\n\")"
   ]
  },
  {
   "cell_type": "code",
   "execution_count": null,
   "metadata": {},
   "outputs": [],
   "source": [
    "#Check Duplicated Observations\n",
    "people_df.duplicated().sum()"
   ]
  },
  {
   "cell_type": "code",
   "execution_count": null,
   "metadata": {},
   "outputs": [],
   "source": [
    "#Check if there are missing values and how many\n",
    "print('Missing values per column:')\n",
    "print(people_df.isna().sum())\n",
    "\n",
    "# Print columns with missing values\n",
    "columns_with_missing_values = people_df.columns[people_df.isnull().any()].tolist()\n",
    "print('\\nColumns with missing values:')\n",
    "print(columns_with_missing_values)"
   ]
  },
  {
   "cell_type": "code",
   "execution_count": null,
   "metadata": {},
   "outputs": [],
   "source": [
    "#Get value counts for columns with missing values\n",
    "for col in people_df[columns_with_missing_values]:\n",
    "    print(people_df[col].value_counts())\n",
    "    print('------')"
   ]
  },
  {
   "cell_type": "code",
   "execution_count": null,
   "metadata": {},
   "outputs": [],
   "source": [
    "# Retrieve columns that provide a value containing \"Unknown\" substring to indicate when the information for that column is not known.\n",
    "for col in people_df[columns_with_missing_values]:\n",
    "    if people_df[col].astype(str).str.contains('unknown', case=False, na=False).any():\n",
    "        print(f'Column name: {col}')\n",
    "        print('---')"
   ]
  },
  {
   "cell_type": "markdown",
   "metadata": {},
   "source": [
    "'PEOPLE' columns that provide an 'UNKNOWN' value\n",
    "From the columns with missing values:\n",
    "\n",
    "1. CITY\n",
    "2. SAFETY_EQUIPMENT\n",
    "3. AIRBAG_DEPLOYED\n",
    "4. EJECTION\n",
    "5. DRIVER_ACTION\n",
    "6. DRIVER_VISION\n",
    "7. PHYSICAL CONDITION\n",
    "8. BAC_RESULT"
   ]
  },
  {
   "cell_type": "markdown",
   "metadata": {},
   "source": [
    "## Queries to explore potential value pairings"
   ]
  },
  {
   "cell_type": "code",
   "execution_count": null,
   "metadata": {},
   "outputs": [],
   "source": [
    "# Check if there are observations where city is known but state is NaN\n",
    "print('Count of observations that have the \\\"CITY\\\" column filled but not the \\\"STATE\\\" column:')\n",
    "count_rows_without_states= people_df[columns_with_missing_values].query('CITY == CITY and STATE != STATE')[['CITY', 'STATE']].shape[0]\n",
    "print(count_rows_without_states)\n",
    "if count_rows_without_states > 0:\n",
    "    print('First 5 rows that have the \\\"CITY\\\" column filled but not the \\\"STATE\\\" column:')\n",
    "    print(people_df[columns_with_missing_values].query('CITY == CITY and STATE != STATE')[['CITY', 'STATE']].head(5))"
   ]
  },
  {
   "cell_type": "code",
   "execution_count": null,
   "metadata": {},
   "outputs": [],
   "source": [
    "# Check if there are observations where state is known but city is NaN\n",
    "print('Count of observations that have the \\\"STATE\\\" column filled but not the \\\"CITY\\\" column:')\n",
    "count_rows_without_cities = people_df[columns_with_missing_values].query('CITY != CITY and STATE == STATE')[['CITY', 'STATE']].shape[0]\n",
    "print(count_rows_without_cities)\n",
    "if count_rows_without_cities > 0:\n",
    "    print('First 5 rows that have the \\\"STATE\\\" column filled but not the \\\"CITY\\\" column:')\n",
    "    print(people_df[columns_with_missing_values].query('CITY != CITY and STATE == STATE')[['CITY', 'STATE']].head(5))"
   ]
  },
  {
   "cell_type": "code",
   "execution_count": null,
   "metadata": {},
   "outputs": [
    {
     "name": "stdout",
     "output_type": "stream",
     "text": [
      "Count of observations that have the \"PERSON_TYPE\" as \"PASSENGER\" and the columns  \"DRIVER_ACTION\" or \"DRIVER_VERSION\"  filled\n",
      "0\n"
     ]
    }
   ],
   "source": [
    "# Check if there are observations where the type is \"PASSENGER\" and \"\"DRIVER_ACTION\" or \"DRIVER_VERSION\" are filled\n",
    "print('Count of observations that have the \\\"PERSON_TYPE\\\" as \"PASSENGER\" and the columns  \\\"DRIVER_ACTION\\\" or \\\"DRIVER_VERSION\\\" filled:')\n",
    "count_passenger_with_driver_info = people_df.query('PERSON_TYPE == \"PASSENGER\" and (DRIVER_ACTION == DRIVER_ACTION or DRIVER_VISION == DRIVER_VISION)').shape[0]\n",
    "print(count_passenger_with_driver_info)\n",
    "if count_passenger_with_driver_info > 0:\n",
    "    print(people_df.query('PERSON_TYPE == \"PASSENGER\" and (DRIVER_ACTION == DRIVER_ACTION or DRIVER_VISION == DRIVER_VISION)').head(5))"
   ]
  },
  {
   "cell_type": "code",
   "execution_count": null,
   "metadata": {},
   "outputs": [
    {
     "name": "stdout",
     "output_type": "stream",
     "text": [
      "Count of observations that have the \"AGE\" < 10 and \"PERSON_TYPE\" as \"DRIVER\":\n",
      "3720\n",
      "        AGE PERSON_TYPE\n",
      "334     0.0      DRIVER\n",
      "369     0.0      DRIVER\n",
      "409     0.0      DRIVER\n",
      "447     0.0      DRIVER\n",
      "1020    0.0      DRIVER\n",
      "...     ...         ...\n",
      "562405  0.0      DRIVER\n",
      "562922  0.0      DRIVER\n",
      "563039  0.0      DRIVER\n",
      "563147  0.0      DRIVER\n",
      "563321  0.0      DRIVER\n",
      "\n",
      "[3720 rows x 2 columns]\n"
     ]
    }
   ],
   "source": [
    "# Check if there are observations where the \"AGE\" < 10  and \"PERSON_TYPE\" is \"DRIVER\" (Anomalies)\n",
    "print('Count of observations that have the \"AGE\" < 10 and \\\"PERSON_TYPE\\\" as \"DRIVER\":')\n",
    "count_age_0 = people_df.query('AGE  < 10 and PERSON_TYPE == \"DRIVER\"').shape[0]\n",
    "print(count_age_0)\n",
    "if count_age_0 > 0:\n",
    "    print(people_df.query('AGE < 10 and PERSON_TYPE == \"DRIVER\"')[['AGE', 'PERSON_TYPE']])"
   ]
  },
  {
   "cell_type": "markdown",
   "metadata": {},
   "source": [
    "## Plots"
   ]
  },
  {
   "cell_type": "code",
   "execution_count": null,
   "metadata": {},
   "outputs": [],
   "source": [
    "#List of columns to plot\n",
    "columns_to_plot = [\n",
    "'PERSON_TYPE',\n",
    "'STATE',\n",
    "'SEX',\n",
    "'SAFETY_EQUIPMENT',\n",
    "'AIRBAG_DEPLOYED',\n",
    "'EJECTION',\n",
    "'DRIVER_ACTION',\n",
    "'DRIVER_VISION',\n",
    "'PHYSICAL_CONDITION',\n",
    "'BAC_RESULT',\n",
    "'DAMAGE_CATEGORY'\n",
    "]\n",
    "\n",
    "\n",
    "#Plot each column\n",
    "for column in columns_to_plot:\n",
    "    fig = px.bar(people_df, \n",
    "                 x=column, \n",
    "                 labels={'x': column, 'y': 'Frequency'},\n",
    "                 title=f'Distribution of {column}')\n",
    "    # Customize hover information\n",
    "    fig.update_traces(hovertemplate='Frequency: %{y}<extra></extra>')\n",
    "    fig.update_xaxes(tickangle=45)\n",
    "    fig.show()"
   ]
  },
  {
   "cell_type": "code",
   "execution_count": null,
   "metadata": {},
   "outputs": [],
   "source": [
    "fig = px.histogram(people_df, x='AGE', \n",
    "                   title='Age Distribution',\n",
    "                   labels={'AGE': 'Age', 'count': 'Frequency'},\n",
    "                   nbins=20) \n",
    "# Customize hover information\n",
    "fig.update_traces(hovertemplate='Frequency: %{y}<extra></extra>')\n",
    "fig.show()"
   ]
  },
  {
   "cell_type": "markdown",
   "metadata": {},
   "source": [
    "## Potential changes\n",
    "\n",
    "After the data exploration on \"People\" dataframe, I believe we should:\n",
    "1. Integrate spatial data based on \"CITY\" column to determine \"STATE\" column when the latter is empty. \n",
    "2. Make following mapping for 'SEX' values: U & NaN values -> \"U\"(unknown)\n",
    "3. For all the columns that already provide an \"unknown\" possible value, fill NaN observations with this value.\n",
    "4. Convert \"VEHICLE_ID\"  & \"AGE\" to an integer.\n",
    "5. Add new value 'N/A' ('NON APPLICABLE') for observations that the person_type is passenger and we have missing values on columns that regard the driver ('DRIVER_VISION' & 'DRIVER_ACTION').\n",
    "6. Split the 'CRASH_DATE' into 'DAY', 'MONTH', 'YEAR', 'TIME' columns\n",
    "7. Introduce either a sentinel value or 'NaN' value for 'AGE' for observations when \"AGE\" < 10  and \"PERSON_TYPE\" is \"DRIVER\"\n"
   ]
  }
 ],
 "metadata": {
  "kernelspec": {
   "display_name": "base",
   "language": "python",
   "name": "python3"
  },
  "language_info": {
   "codemirror_mode": {
    "name": "ipython",
    "version": 3
   },
   "file_extension": ".py",
   "mimetype": "text/x-python",
   "name": "python",
   "nbconvert_exporter": "python",
   "pygments_lexer": "ipython3",
   "version": "3.12.7"
  }
 },
 "nbformat": 4,
 "nbformat_minor": 2
}
