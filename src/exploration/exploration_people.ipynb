{
 "cells": [
  {
   "cell_type": "code",
   "execution_count": null,
   "metadata": {},
   "outputs": [],
   "source": [
    "#Imports\n",
    "import pandas as pd\n",
    "import numpy as np\n",
    "import plotly.express as px"
   ]
  },
  {
   "cell_type": "markdown",
   "metadata": {},
   "source": [
    "## PEOPLE DATASET EXPLORATION"
   ]
  },
  {
   "cell_type": "code",
   "execution_count": null,
   "metadata": {},
   "outputs": [],
   "source": [
    "# Load the csv file\n",
    "people_df = pd.read_csv('../../LDS24 - Data/People.csv')"
   ]
  },
  {
   "cell_type": "code",
   "execution_count": null,
   "metadata": {},
   "outputs": [],
   "source": [
    "# Print information\n",
    "print('Info:')\n",
    "people_df.info()\n",
    "\n",
    "#Print columns\n",
    "print('\\nColumns:')\n",
    "print(people_df.columns)\n",
    "\n",
    "#Print shape\n",
    "print('\\nShape:')\n",
    "print(people_df.shape)\n"
   ]
  },
  {
   "cell_type": "code",
   "execution_count": null,
   "metadata": {},
   "outputs": [],
   "source": [
    "#Get unique values per non-numeric columns\n",
    "for column in people_df.select_dtypes(exclude=[np.number]):\n",
    "    print(f\"Unique values in {column}:\")\n",
    "    print(people_df[column].unique())\n",
    "    print(\"\\n\")"
   ]
  },
  {
   "cell_type": "code",
   "execution_count": null,
   "metadata": {},
   "outputs": [],
   "source": [
    "#Check Duplicated Observations\n",
    "people_df.duplicated().sum()"
   ]
  },
  {
   "cell_type": "code",
   "execution_count": null,
   "metadata": {},
   "outputs": [],
   "source": [
    "#Check if there are missing values and how many\n",
    "print('Missing values per column:')\n",
    "print(people_df.isna().sum())\n",
    "\n",
    "# Print columns with missing values\n",
    "columns_with_missing_values = people_df.columns[people_df.isnull().any()].tolist()\n",
    "print('\\nColumns with missing values:')\n",
    "print(columns_with_missing_values)"
   ]
  },
  {
   "cell_type": "code",
   "execution_count": null,
   "metadata": {},
   "outputs": [],
   "source": [
    "#Get value counts for columns with missing values\n",
    "for col in people_df[columns_with_missing_values]:\n",
    "    print(people_df[col].value_counts())\n",
    "    print('------')"
   ]
  },
  {
   "cell_type": "code",
   "execution_count": null,
   "metadata": {},
   "outputs": [],
   "source": [
    "# Retrieve columns that provide a value containing \"Unknown\" substring to indicate when the information for that column is not known.\n",
    "for col in people_df[columns_with_missing_values]:\n",
    "    if people_df[col].astype(str).str.contains('unknown', case=False, na=False).any():\n",
    "        print(f'Column name: {col}')\n",
    "        print('---')"
   ]
  },
  {
   "cell_type": "markdown",
   "metadata": {},
   "source": [
    "### Result: 'PEOPLE' columns that provide an 'UNKNOWN' value\n",
    "From the columns with missing values:\n",
    "\n",
    "1. CITY\n",
    "2. SAFETY_EQUIPMENT\n",
    "3. AIRBAG_DEPLOYED\n",
    "4. EJECTION\n",
    "5. DRIVER_ACTION\n",
    "6. DRIVER_VISION\n",
    "7. PHYSICAL CONDITION\n",
    "8. BAC_RESULT"
   ]
  },
  {
   "cell_type": "markdown",
   "metadata": {},
   "source": [
    "## Queries to explore potential value pairings"
   ]
  },
  {
   "cell_type": "code",
   "execution_count": null,
   "metadata": {},
   "outputs": [],
   "source": [
    "# Check if there are observations where city is known but state is NaN\n",
    "print('Count of observations that have the \\\"CITY\\\" column filled but not the \\\"STATE\\\" column:')\n",
    "count_rows_without_states= people_df[columns_with_missing_values].query('CITY == CITY and STATE != STATE')[['CITY', 'STATE']].shape[0]\n",
    "print(count_rows_without_states)\n",
    "if count_rows_without_states > 0:\n",
    "    print('First 5 rows that have the \\\"CITY\\\" column filled but not the \\\"STATE\\\" column:')\n",
    "    print(people_df[columns_with_missing_values].query('CITY == CITY and STATE != STATE')[['CITY', 'STATE']].head(5))"
   ]
  },
  {
   "cell_type": "code",
   "execution_count": null,
   "metadata": {},
   "outputs": [],
   "source": [
    "# Check if there are observations where state is known but city is NaN\n",
    "print('Count of observations that have the \\\"STATE\\\" column filled but not the \\\"CITY\\\" column:')\n",
    "count_rows_without_cities = people_df[columns_with_missing_values].query('CITY != CITY and STATE == STATE')[['CITY', 'STATE']].shape[0]\n",
    "print(count_rows_without_cities)\n",
    "if count_rows_without_cities > 0:\n",
    "    print('First 5 rows that have the \\\"STATE\\\" column filled but not the \\\"CITY\\\" column:')\n",
    "    print(people_df[columns_with_missing_values].query('CITY != CITY and STATE == STATE')[['CITY', 'STATE']].head(5))"
   ]
  },
  {
   "cell_type": "code",
   "execution_count": null,
   "metadata": {},
   "outputs": [],
   "source": [
    "# Check if there are observations where the type is \"PASSENGER\" and \"\"DRIVER_ACTION\" or \"DRIVER_VERSION\" are filled\n",
    "print('Count of observations that have the \\\"PERSON_TYPE\\\" as \"PASSENGER\" and the columns  \\\"DRIVER_ACTION\\\" or \\\"DRIVER_VERSION\\\"  filled')\n",
    "count_passenger_with_driver_info = people_df.query('PERSON_TYPE == \"PASSENGER\" and (DRIVER_ACTION == DRIVER_ACTION or DRIVER_VISION == DRIVER_VISION)').shape[0]\n",
    "print(count_passenger_with_driver_info)\n",
    "if count_passenger_with_driver_info > 0:\n",
    "    print(people_df.query('PERSON_TYPE == \"PASSENGER\" and (DRIVER_ACTION == DRIVER_ACTION or DRIVER_VISION == DRIVER_VISION)').head(5))"
   ]
  },
  {
   "cell_type": "code",
   "execution_count": null,
   "metadata": {},
   "outputs": [],
   "source": [
    "# Check if there are observations where the \"AGE\" is 0\n",
    "print('Count of observations that have the \"AGE\" as 0 and \\\"PERSON_TYPE\\\" as \"DRIVER\":')\n",
    "count_age_0 = people_df.query('AGE  < 10 and PERSON_TYPE == \"DRIVER\"').shape[0]\n",
    "print(count_age_0)\n",
    "if count_age_0 > 0:\n",
    "    print(people_df.query('AGE < 10 and PERSON_TYPE == \"DRIVER\"')[['AGE', 'PERSON_TYPE']].head(5))"
   ]
  },
  {
   "cell_type": "markdown",
   "metadata": {},
   "source": [
    "## Plots"
   ]
  },
  {
   "cell_type": "code",
   "execution_count": null,
   "metadata": {},
   "outputs": [],
   "source": [
    "#List of columns to plot\n",
    "columns_to_plot = [\n",
    "'PERSON_TYPE',\n",
    "'STATE',\n",
    "'SEX',\n",
    "'SAFETY_EQUIPMENT',\n",
    "'AIRBAG_DEPLOYED',\n",
    "'EJECTION',\n",
    "'DRIVER_ACTION',\n",
    "'DRIVER_VISION',\n",
    "'PHYSICAL_CONDITION',\n",
    "'BAC_RESULT',\n",
    "'DAMAGE_CATEGORY'\n",
    "]\n",
    "\n",
    "\n",
    "#Plot each column\n",
    "for column in columns_to_plot:\n",
    "    fig = px.bar(people_df, \n",
    "                 x=column, \n",
    "                 labels={'x': column, 'y': 'Frequency'},\n",
    "                 title=f'Distribution of {column}')\n",
    "    # Customize hover information\n",
    "    fig.update_traces(hovertemplate='Frequency: %{y}<extra></extra>')\n",
    "    fig.update_xaxes(tickangle=45)\n",
    "    fig.show()"
   ]
  },
  {
   "cell_type": "code",
   "execution_count": null,
   "metadata": {},
   "outputs": [],
   "source": [
    "fig = px.histogram(people_df, x='AGE', \n",
    "                   title='Age Distribution',\n",
    "                   labels={'AGE': 'Age', 'count': 'Frequency'},\n",
    "                   nbins=20) \n",
    "# Customize hover information\n",
    "fig.update_traces(hovertemplate='Frequency: %{y}<extra></extra>')\n",
    "fig.show()"
   ]
  }
 ],
 "metadata": {
  "kernelspec": {
   "display_name": "base",
   "language": "python",
   "name": "python3"
  },
  "language_info": {
   "codemirror_mode": {
    "name": "ipython",
    "version": 3
   },
   "file_extension": ".py",
   "mimetype": "text/x-python",
   "name": "python",
   "nbconvert_exporter": "python",
   "pygments_lexer": "ipython3",
   "version": "3.12.7"
  }
 },
 "nbformat": 4,
 "nbformat_minor": 2
}
