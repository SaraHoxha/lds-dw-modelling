{
 "cells": [
  {
   "cell_type": "code",
   "execution_count": 3,
   "metadata": {},
   "outputs": [],
   "source": [
    "# Imports\n",
    "from utils.read_write import read_csv, to_csv\n",
    "from utils.utils import fill_missing_values, split_date\n",
    "from utils.people_utils import set_age_to_none, set_city_to_unknown, set_state_to_unknown, default_sex_to_U, set_driver_cols_to_none_for_passengers, fill_state_based_on_city"
   ]
  },
  {
   "cell_type": "code",
   "execution_count": 4,
   "metadata": {},
   "outputs": [],
   "source": [
    "# Read \"People csv\"\n",
    "people_df = read_csv ('../data/People.csv', 'PERSON_ID')"
   ]
  },
  {
   "cell_type": "code",
   "execution_count": 5,
   "metadata": {},
   "outputs": [],
   "source": [
    "# Fill missing values for columns that provide a default 'Unknown' value\n",
    "column2defaultUknown = {\n",
    "'CITY': 'UNKNOWN',\n",
    "'SAFETY_EQUIPMENT': 'USAGE UNKNOWN',\n",
    "'AIRBAG_DEPLOYED': 'DEPLOYMENT UNKNOWN',\n",
    "'EJECTION': 'UNKNOWN',\n",
    "'DRIVER_ACTION': 'UNKNOWN',\n",
    "'DRIVER_VISION': 'UNKNOWN',\n",
    "'PHYSICAL_CONDITION': 'UNKNOWN' \n",
    "}\n",
    "\n",
    "people_df_processed = fill_missing_values(people_df, column2defaultUknown)"
   ]
  },
  {
   "cell_type": "code",
   "execution_count": 6,
   "metadata": {},
   "outputs": [],
   "source": [
    "# Make following mapping for 'SEX' values: U & NaN values -> \"U\"(unknown)\n",
    "people_df_processed = default_sex_to_U(people_df_processed)"
   ]
  },
  {
   "cell_type": "code",
   "execution_count": 7,
   "metadata": {},
   "outputs": [],
   "source": [
    "# Add new value 'N/A' ('NON APPLICABLE') for observations that the person_type is passenger and we have missing values on columns that regard the driver ('DRIVER_VISION' & 'DRIVER_ACTION').\n",
    "people_df_processed = set_driver_cols_to_none_for_passengers(people_df_processed)"
   ]
  },
  {
   "cell_type": "code",
   "execution_count": 8,
   "metadata": {},
   "outputs": [],
   "source": [
    "# Set a  None ('') value for 'AGE' for observations when \"AGE\" < 10  and \"PERSON_TYPE\" is \"DRIVER\"\n",
    "people_df_processed = set_age_to_none(people_df_processed)"
   ]
  },
  {
   "cell_type": "code",
   "execution_count": 9,
   "metadata": {},
   "outputs": [],
   "source": [
    "# Split the 'CRASH_DATE' into 'DAY', 'MONTH', 'YEAR', 'TIME' columns\n",
    "date_column = 'CRASH_DATE'\n",
    "people_df_processed =  split_date(people_df_processed, date_column)"
   ]
  },
  {
   "cell_type": "code",
   "execution_count": 10,
   "metadata": {},
   "outputs": [],
   "source": [
    "#Set 'CITY' column have the value 'Unknown' when 'city' has numeric value, length < 2 or starts with UNK\n",
    "people_df_processed = set_city_to_unknown(people_df_processed)"
   ]
  },
  {
   "cell_type": "code",
   "execution_count": null,
   "metadata": {},
   "outputs": [],
   "source": [
    "# Make 'STATE' column have the value 'Unknown' when 'CITY' is 'UNKNOWN' or STATE == 'XX'.\n",
    "people_df_processed = set_state_to_unknown(people_df_processed)"
   ]
  },
  {
   "cell_type": "code",
   "execution_count": null,
   "metadata": {},
   "outputs": [
    {
     "ename": "NameError",
     "evalue": "name 'us_cities_info' is not defined",
     "output_type": "error",
     "traceback": [
      "\u001b[0;31m---------------------------------------------------------------------------\u001b[0m",
      "\u001b[0;31mNameError\u001b[0m                                 Traceback (most recent call last)",
      "Cell \u001b[0;32mIn[12], line 2\u001b[0m\n\u001b[1;32m      1\u001b[0m \u001b[38;5;66;03m# Use \"CITY\" column to determine \"STATE\" column when the latter is empty. \u001b[39;00m\n\u001b[0;32m----> 2\u001b[0m people_df_processed \u001b[38;5;241m=\u001b[39m fill_state_based_on_city(people_df_processed, us_cities_info)\n",
      "\u001b[0;31mNameError\u001b[0m: name 'us_cities_info' is not defined"
     ]
    }
   ],
   "source": [
    "# Use \"CITY\" column to determine \"STATE\" column when the latter is empty. \n",
    "us_cities_info = read_csv ('../data/us_cities_info.csv', 'CITY')\n",
    "people_df_processed = fill_state_based_on_city(people_df_processed, us_cities_info)"
   ]
  },
  {
   "cell_type": "code",
   "execution_count": null,
   "metadata": {},
   "outputs": [],
   "source": [
    "to_csv(people_df_processed,'../data/People_Processed.csv')"
   ]
  }
 ],
 "metadata": {
  "kernelspec": {
   "display_name": "base",
   "language": "python",
   "name": "python3"
  },
  "language_info": {
   "codemirror_mode": {
    "name": "ipython",
    "version": 3
   },
   "file_extension": ".py",
   "mimetype": "text/x-python",
   "name": "python",
   "nbconvert_exporter": "python",
   "pygments_lexer": "ipython3",
   "version": "3.12.7"
  }
 },
 "nbformat": 4,
 "nbformat_minor": 2
}
