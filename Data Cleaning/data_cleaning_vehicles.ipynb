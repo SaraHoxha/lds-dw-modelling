{
 "cells": [
  {
   "cell_type": "code",
   "execution_count": 1,
   "metadata": {},
   "outputs": [],
   "source": [
    "#Imports\n",
    "from utils.read_write import read_csv, to_csv\n",
    "from utils.utils import fill_missing_values, split_date\n",
    "from utils.vehicles_utils import license_xx_to_u, typos_fixing, set_vehicle_year"
   ]
  },
  {
   "cell_type": "code",
   "execution_count": 2,
   "metadata": {},
   "outputs": [],
   "source": [
    "# Read \"Vehicles csv\"\n",
    "vehicles_df = read_csv ('../data/Vehicles.csv', 'CRASH_UNIT_ID')"
   ]
  },
  {
   "cell_type": "code",
   "execution_count": 3,
   "metadata": {},
   "outputs": [],
   "source": [
    "# Fill missing values for columns that provide a default 'Unknown' value\n",
    "column2defaultUknown = {\n",
    "'UNIT_TYPE': 'UNKNOWN',\n",
    "'LIC_PLATE_STATE': 'UNKNOWN',\n",
    "'MAKE': 'UNKNOWN',\n",
    "'MODEL': 'UNKNOWN',\n",
    "'VEHICLE_DEFECT': 'UNKNOWN',\n",
    "'VEHICLE_TYPE': 'UNKNOWN/NA',\n",
    "'VEHICLE_USE': 'UNKNOWN/NA',\n",
    "'TRAVEL_DIRECTION': 'UNKNOWN', \n",
    "'MANEUVER': 'UNKNOWN',\n",
    "'FIRST_CONTACT_POINT': 'UNKNOWN'\n",
    "}\n",
    "\n",
    "vehicles_df_processed = fill_missing_values(vehicles_df, column2defaultUknown)"
   ]
  },
  {
   "cell_type": "code",
   "execution_count": 4,
   "metadata": {},
   "outputs": [],
   "source": [
    "#Changing XX state to unknown\n",
    "vehicles_df_processed = license_xx_to_u(vehicles_df_processed)"
   ]
  },
  {
   "cell_type": "code",
   "execution_count": 5,
   "metadata": {},
   "outputs": [],
   "source": [
    "#Typos for brand and fixing them\n",
    "typos_make = {'NEW HOLLAND, DIV. OF SPERRY NEW HOLLAND': 'NEW HOLLAND, (DIV. OF SPERRY NEW HOLLAND)',\n",
    "    'AMC (LAWN & GARDEN TRACTORS BY AMERICAN MOTORS)': 'AMC (LAWN & GARDEN TRACTORS BY AMMERICAN MOTORS)',\n",
    "    'ROLLS ROYCE': 'ROLLS-ROYCE'}\n",
    "\n",
    "vehicles_df_processed = typos_fixing(vehicles_df_processed, typos_make,\"MAKE\")\n"
   ]
  },
  {
   "cell_type": "code",
   "execution_count": 6,
   "metadata": {},
   "outputs": [],
   "source": [
    "#Typos for model and fixing them\n",
    "typos_model = {'UNKNOWN':'UNKOWN'}\n",
    "\n",
    "vehicles_df_processed = typos_fixing(vehicles_df_processed,typos_model,\"MODEL\")"
   ]
  },
  {
   "cell_type": "code",
   "execution_count": 7,
   "metadata": {},
   "outputs": [],
   "source": [
    "#Fixing years of vehicles\n",
    "\n",
    "vehicles_df_processed = set_vehicle_year(vehicles_df_processed)"
   ]
  },
  {
   "cell_type": "code",
   "execution_count": 8,
   "metadata": {},
   "outputs": [],
   "source": [
    "#Splitting time into \n",
    "date_column = 'CRASH_DATE'\n",
    "people_df_processed =  split_date(vehicles_df_processed, date_column)"
   ]
  },
  {
   "cell_type": "code",
   "execution_count": 9,
   "metadata": {},
   "outputs": [],
   "source": [
    "#writing to csv\n",
    "to_csv(vehicles_df_processed,'../data/Vehicles_Processed.csv')"
   ]
  }
 ],
 "metadata": {
  "kernelspec": {
   "display_name": "masterDS-exp",
   "language": "python",
   "name": "python3"
  },
  "language_info": {
   "codemirror_mode": {
    "name": "ipython",
    "version": 3
   },
   "file_extension": ".py",
   "mimetype": "text/x-python",
   "name": "python",
   "nbconvert_exporter": "python",
   "pygments_lexer": "ipython3",
   "version": "3.11.5"
  }
 },
 "nbformat": 4,
 "nbformat_minor": 2
}
