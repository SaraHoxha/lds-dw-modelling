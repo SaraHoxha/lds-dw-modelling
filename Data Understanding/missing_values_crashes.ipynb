{
 "cells": [
  {
   "cell_type": "markdown",
   "metadata": {},
   "source": [
    "missing values are in the columns:\n",
    "- REPORT_TYPE\n",
    "- STREET_DIRECTION\n",
    "- STREET_NAME\n",
    "- BEAT_OF_OCCURRENCE\n",
    "- MOST_SEVERE_INJURY\n",
    "- LATITUDE\n",
    "- LONGITUDE\n",
    "- LOCATION"
   ]
  },
  {
   "cell_type": "markdown",
   "metadata": {},
   "source": [
    "i found replacement for:\n",
    "- check integrate data crashes file for filled values"
   ]
  },
  {
   "cell_type": "code",
   "execution_count": null,
   "metadata": {},
   "outputs": [],
   "source": []
  },
  {
   "cell_type": "markdown",
   "metadata": {},
   "source": [
    "Column: REPORT_TYPE\n",
    "Data Type: object\n",
    "Unique Values: ['ON SCENE' 'NOT ON SCENE (DESK REPORT)' nan]\n",
    "\n",
    "maybe report_type can be filled using the mode?"
   ]
  }
 ],
 "metadata": {
  "language_info": {
   "name": "python"
  }
 },
 "nbformat": 4,
 "nbformat_minor": 2
}
