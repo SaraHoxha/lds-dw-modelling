{
 "cells": [
  {
   "cell_type": "markdown",
   "metadata": {},
   "source": [
    "missing values are in the columns:\n",
    "- REPORT_TYPE\n",
    "- STREET_DIRECTION\n",
    "- STREET_NAME\n",
    "- BEAT_OF_OCCURRENCE\n",
    "- MOST_SEVERE_INJURY\n",
    "- LATITUDE\n",
    "- LONGITUDE\n",
    "- LOCATION"
   ]
  },
  {
   "cell_type": "code",
   "execution_count": 11,
   "metadata": {},
   "outputs": [],
   "source": [
    "import pandas as pd"
   ]
  },
  {
   "cell_type": "code",
   "execution_count": 12,
   "metadata": {},
   "outputs": [],
   "source": [
    "crashes_df = pd.read_csv('../data/Crashes.csv')"
   ]
  },
  {
   "cell_type": "markdown",
   "metadata": {},
   "source": [
    "### check with other datasets"
   ]
  },
  {
   "cell_type": "markdown",
   "metadata": {},
   "source": [
    "there are missing values, let's check if any of this columns are in the other 2 datasets"
   ]
  },
  {
   "cell_type": "code",
   "execution_count": 13,
   "metadata": {},
   "outputs": [],
   "source": [
    "people_df = pd.read_csv('../data/People.csv')\n",
    "vehicles_df = pd.read_csv('../data/Vehicles.csv')"
   ]
  },
  {
   "cell_type": "code",
   "execution_count": 14,
   "metadata": {},
   "outputs": [],
   "source": [
    "missing_values_dict = crashes_df.isna().sum()[crashes_df.isna().sum() > 0].to_dict()"
   ]
  },
  {
   "cell_type": "code",
   "execution_count": 15,
   "metadata": {},
   "outputs": [],
   "source": [
    "for col in set(list(people_df.columns)+list(vehicles_df.columns)):\n",
    "    if col in missing_values_dict.keys():\n",
    "        print(f'Column {col} is missing in both People and Vehicles datasets.')"
   ]
  },
  {
   "cell_type": "markdown",
   "metadata": {},
   "source": [
    "none are (or at least directly)"
   ]
  },
  {
   "cell_type": "code",
   "execution_count": 16,
   "metadata": {},
   "outputs": [
    {
     "data": {
      "text/plain": [
       "(Index(['PERSON_ID', 'PERSON_TYPE', 'RD_NO', 'VEHICLE_ID', 'CRASH_DATE', 'CITY',\n",
       "        'STATE', 'SEX', 'AGE', 'SAFETY_EQUIPMENT', 'AIRBAG_DEPLOYED',\n",
       "        'EJECTION', 'INJURY_CLASSIFICATION', 'DRIVER_ACTION', 'DRIVER_VISION',\n",
       "        'PHYSICAL_CONDITION', 'BAC_RESULT', 'DAMAGE_CATEGORY', 'DAMAGE'],\n",
       "       dtype='object'),\n",
       " Index(['CRASH_UNIT_ID', 'RD_NO', 'CRASH_DATE', 'UNIT_NO', 'UNIT_TYPE',\n",
       "        'VEHICLE_ID', 'MAKE', 'MODEL', 'LIC_PLATE_STATE', 'VEHICLE_YEAR',\n",
       "        'VEHICLE_DEFECT', 'VEHICLE_TYPE', 'VEHICLE_USE', 'TRAVEL_DIRECTION',\n",
       "        'MANEUVER', 'OCCUPANT_CNT', 'FIRST_CONTACT_POINT'],\n",
       "       dtype='object'))"
      ]
     },
     "execution_count": 16,
     "metadata": {},
     "output_type": "execute_result"
    }
   ],
   "source": [
    "people_df.columns, vehicles_df.columns"
   ]
  },
  {
   "cell_type": "markdown",
   "metadata": {},
   "source": [
    "in vehicles we have a feature called TRAVEL_DIRECTION that might contain the same information as STREET_DIRECTION"
   ]
  },
  {
   "cell_type": "code",
   "execution_count": 17,
   "metadata": {},
   "outputs": [],
   "source": [
    "#let's join the 2 datasets on rd_no and keeping only street direction and travel direction from the 2\n",
    "joined_df = crashes_df[['RD_NO', 'STREET_DIRECTION']].merge(\n",
    "    vehicles_df[['RD_NO', 'TRAVEL_DIRECTION']],\n",
    "    on='RD_NO',\n",
    "    how='inner'\n",
    ")\n",
    "missing_values = joined_df.isna().sum()"
   ]
  },
  {
   "cell_type": "code",
   "execution_count": 18,
   "metadata": {},
   "outputs": [
    {
     "data": {
      "text/html": [
       "<div>\n",
       "<style scoped>\n",
       "    .dataframe tbody tr th:only-of-type {\n",
       "        vertical-align: middle;\n",
       "    }\n",
       "\n",
       "    .dataframe tbody tr th {\n",
       "        vertical-align: top;\n",
       "    }\n",
       "\n",
       "    .dataframe thead th {\n",
       "        text-align: right;\n",
       "    }\n",
       "</style>\n",
       "<table border=\"1\" class=\"dataframe\">\n",
       "  <thead>\n",
       "    <tr style=\"text-align: right;\">\n",
       "      <th></th>\n",
       "      <th>RD_NO</th>\n",
       "      <th>STREET_DIRECTION</th>\n",
       "      <th>TRAVEL_DIRECTION</th>\n",
       "    </tr>\n",
       "  </thead>\n",
       "  <tbody>\n",
       "    <tr>\n",
       "      <th>0</th>\n",
       "      <td>JC113649</td>\n",
       "      <td>N</td>\n",
       "      <td>S</td>\n",
       "    </tr>\n",
       "    <tr>\n",
       "      <th>1</th>\n",
       "      <td>JC113627</td>\n",
       "      <td>N</td>\n",
       "      <td>S</td>\n",
       "    </tr>\n",
       "    <tr>\n",
       "      <th>2</th>\n",
       "      <td>JC113627</td>\n",
       "      <td>N</td>\n",
       "      <td>E</td>\n",
       "    </tr>\n",
       "    <tr>\n",
       "      <th>3</th>\n",
       "      <td>JC113637</td>\n",
       "      <td>S</td>\n",
       "      <td>N</td>\n",
       "    </tr>\n",
       "    <tr>\n",
       "      <th>4</th>\n",
       "      <td>JC113637</td>\n",
       "      <td>S</td>\n",
       "      <td>S</td>\n",
       "    </tr>\n",
       "    <tr>\n",
       "      <th>...</th>\n",
       "      <td>...</td>\n",
       "      <td>...</td>\n",
       "      <td>...</td>\n",
       "    </tr>\n",
       "    <tr>\n",
       "      <th>460432</th>\n",
       "      <td>HZ164689</td>\n",
       "      <td>N</td>\n",
       "      <td>S</td>\n",
       "    </tr>\n",
       "    <tr>\n",
       "      <th>460433</th>\n",
       "      <td>HZ122950</td>\n",
       "      <td>S</td>\n",
       "      <td>S</td>\n",
       "    </tr>\n",
       "    <tr>\n",
       "      <th>460434</th>\n",
       "      <td>HZ122950</td>\n",
       "      <td>S</td>\n",
       "      <td>W</td>\n",
       "    </tr>\n",
       "    <tr>\n",
       "      <th>460435</th>\n",
       "      <td>JB442550</td>\n",
       "      <td>W</td>\n",
       "      <td>E</td>\n",
       "    </tr>\n",
       "    <tr>\n",
       "      <th>460436</th>\n",
       "      <td>JB442550</td>\n",
       "      <td>W</td>\n",
       "      <td>E</td>\n",
       "    </tr>\n",
       "  </tbody>\n",
       "</table>\n",
       "<p>460437 rows × 3 columns</p>\n",
       "</div>"
      ],
      "text/plain": [
       "           RD_NO STREET_DIRECTION TRAVEL_DIRECTION\n",
       "0       JC113649                N                S\n",
       "1       JC113627                N                S\n",
       "2       JC113627                N                E\n",
       "3       JC113637                S                N\n",
       "4       JC113637                S                S\n",
       "...          ...              ...              ...\n",
       "460432  HZ164689                N                S\n",
       "460433  HZ122950                S                S\n",
       "460434  HZ122950                S                W\n",
       "460435  JB442550                W                E\n",
       "460436  JB442550                W                E\n",
       "\n",
       "[460437 rows x 3 columns]"
      ]
     },
     "execution_count": 18,
     "metadata": {},
     "output_type": "execute_result"
    }
   ],
   "source": [
    "joined_df"
   ]
  },
  {
   "cell_type": "code",
   "execution_count": 19,
   "metadata": {},
   "outputs": [
    {
     "data": {
      "text/plain": [
       "RD_NO                   0\n",
       "STREET_DIRECTION        4\n",
       "TRAVEL_DIRECTION    10373\n",
       "dtype: int64"
      ]
     },
     "execution_count": 19,
     "metadata": {},
     "output_type": "execute_result"
    }
   ],
   "source": [
    "missing_values"
   ]
  },
  {
   "cell_type": "code",
   "execution_count": 20,
   "metadata": {},
   "outputs": [
    {
     "data": {
      "text/plain": [
       "(291438, (460437, 3), 168999)"
      ]
     },
     "execution_count": 20,
     "metadata": {},
     "output_type": "execute_result"
    }
   ],
   "source": [
    "#mismatch, shape, #shape-#mismatch\n",
    "(joined_df['STREET_DIRECTION'] != joined_df['TRAVEL_DIRECTION']).sum(), joined_df.shape, joined_df.shape[0]-(joined_df['STREET_DIRECTION'] != joined_df['TRAVEL_DIRECTION']).sum()"
   ]
  },
  {
   "cell_type": "code",
   "execution_count": 21,
   "metadata": {},
   "outputs": [
    {
     "data": {
      "text/plain": [
       "10373"
      ]
     },
     "execution_count": 21,
     "metadata": {},
     "output_type": "execute_result"
    }
   ],
   "source": [
    "vehicles_df[\"TRAVEL_DIRECTION\"].isna().sum()"
   ]
  },
  {
   "cell_type": "markdown",
   "metadata": {},
   "source": [
    "the 2 columns seem to be unrealted to each other:\n",
    "- other than the fact that 10373 rows values are missing from the travel_direction column,\n",
    "- the number of mismatch between the total number of rows in the dataset and the number of mismatch (therfore the number of values that match is just ~1/3 of the number of rows, we will have to find this info in another way)"
   ]
  },
  {
   "cell_type": "markdown",
   "metadata": {},
   "source": [
    "### internal integration"
   ]
  },
  {
   "cell_type": "markdown",
   "metadata": {},
   "source": [
    "since we have CRASH_DATE and DATE_POLICE_NOTIFIED we can find the delta of days that passed between the crash date and the report to the police"
   ]
  },
  {
   "cell_type": "code",
   "execution_count": 22,
   "metadata": {},
   "outputs": [
    {
     "data": {
      "text/html": [
       "<div>\n",
       "<style scoped>\n",
       "    .dataframe tbody tr th:only-of-type {\n",
       "        vertical-align: middle;\n",
       "    }\n",
       "\n",
       "    .dataframe tbody tr th {\n",
       "        vertical-align: top;\n",
       "    }\n",
       "\n",
       "    .dataframe thead th {\n",
       "        text-align: right;\n",
       "    }\n",
       "</style>\n",
       "<table border=\"1\" class=\"dataframe\">\n",
       "  <thead>\n",
       "    <tr style=\"text-align: right;\">\n",
       "      <th></th>\n",
       "      <th>CRASH_DATE</th>\n",
       "      <th>DATE_POLICE_NOTIFIED</th>\n",
       "    </tr>\n",
       "  </thead>\n",
       "  <tbody>\n",
       "    <tr>\n",
       "      <th>0</th>\n",
       "      <td>01/12/2019 12:01:00 AM</td>\n",
       "      <td>01/12/2019 12:01:00 AM</td>\n",
       "    </tr>\n",
       "    <tr>\n",
       "      <th>1</th>\n",
       "      <td>01/11/2019 11:36:00 PM</td>\n",
       "      <td>01/11/2019 11:42:00 PM</td>\n",
       "    </tr>\n",
       "    <tr>\n",
       "      <th>2</th>\n",
       "      <td>01/11/2019 11:31:00 PM</td>\n",
       "      <td>01/12/2019 12:08:00 AM</td>\n",
       "    </tr>\n",
       "    <tr>\n",
       "      <th>3</th>\n",
       "      <td>01/11/2019 11:22:00 PM</td>\n",
       "      <td>01/11/2019 11:48:00 PM</td>\n",
       "    </tr>\n",
       "    <tr>\n",
       "      <th>4</th>\n",
       "      <td>01/11/2019 11:08:00 PM</td>\n",
       "      <td>01/11/2019 11:38:00 PM</td>\n",
       "    </tr>\n",
       "    <tr>\n",
       "      <th>...</th>\n",
       "      <td>...</td>\n",
       "      <td>...</td>\n",
       "    </tr>\n",
       "    <tr>\n",
       "      <th>257920</th>\n",
       "      <td>11/11/2014 08:00:00 PM</td>\n",
       "      <td>11/12/2015 02:40:00 PM</td>\n",
       "    </tr>\n",
       "    <tr>\n",
       "      <th>257921</th>\n",
       "      <td>08/20/2014 04:50:00 PM</td>\n",
       "      <td>08/20/2016 08:32:00 PM</td>\n",
       "    </tr>\n",
       "    <tr>\n",
       "      <th>257922</th>\n",
       "      <td>02/24/2014 07:45:00 PM</td>\n",
       "      <td>02/25/2016 02:30:00 PM</td>\n",
       "    </tr>\n",
       "    <tr>\n",
       "      <th>257923</th>\n",
       "      <td>01/21/2014 07:40:00 AM</td>\n",
       "      <td>01/21/2016 07:50:00 AM</td>\n",
       "    </tr>\n",
       "    <tr>\n",
       "      <th>257924</th>\n",
       "      <td>01/18/2014 06:14:00 PM</td>\n",
       "      <td>09/19/2018 07:00:00 PM</td>\n",
       "    </tr>\n",
       "  </tbody>\n",
       "</table>\n",
       "<p>257925 rows × 2 columns</p>\n",
       "</div>"
      ],
      "text/plain": [
       "                    CRASH_DATE    DATE_POLICE_NOTIFIED\n",
       "0       01/12/2019 12:01:00 AM  01/12/2019 12:01:00 AM\n",
       "1       01/11/2019 11:36:00 PM  01/11/2019 11:42:00 PM\n",
       "2       01/11/2019 11:31:00 PM  01/12/2019 12:08:00 AM\n",
       "3       01/11/2019 11:22:00 PM  01/11/2019 11:48:00 PM\n",
       "4       01/11/2019 11:08:00 PM  01/11/2019 11:38:00 PM\n",
       "...                        ...                     ...\n",
       "257920  11/11/2014 08:00:00 PM  11/12/2015 02:40:00 PM\n",
       "257921  08/20/2014 04:50:00 PM  08/20/2016 08:32:00 PM\n",
       "257922  02/24/2014 07:45:00 PM  02/25/2016 02:30:00 PM\n",
       "257923  01/21/2014 07:40:00 AM  01/21/2016 07:50:00 AM\n",
       "257924  01/18/2014 06:14:00 PM  09/19/2018 07:00:00 PM\n",
       "\n",
       "[257925 rows x 2 columns]"
      ]
     },
     "execution_count": 22,
     "metadata": {},
     "output_type": "execute_result"
    }
   ],
   "source": [
    "create_delta_time_column_df = crashes_df[['CRASH_DATE', 'DATE_POLICE_NOTIFIED']]\n",
    "create_delta_time_column_df"
   ]
  },
  {
   "cell_type": "code",
   "execution_count": 23,
   "metadata": {},
   "outputs": [
    {
     "name": "stderr",
     "output_type": "stream",
     "text": [
      "C:\\Users\\alex1\\AppData\\Local\\Temp\\ipykernel_31904\\2461194022.py:2: SettingWithCopyWarning: \n",
      "A value is trying to be set on a copy of a slice from a DataFrame.\n",
      "Try using .loc[row_indexer,col_indexer] = value instead\n",
      "\n",
      "See the caveats in the documentation: https://pandas.pydata.org/pandas-docs/stable/user_guide/indexing.html#returning-a-view-versus-a-copy\n",
      "  create_delta_time_column_df['CRASH_DATE'] = pd.to_datetime(create_delta_time_column_df['CRASH_DATE'], errors='coerce')\n",
      "C:\\Users\\alex1\\AppData\\Local\\Temp\\ipykernel_31904\\2461194022.py:3: SettingWithCopyWarning: \n",
      "A value is trying to be set on a copy of a slice from a DataFrame.\n",
      "Try using .loc[row_indexer,col_indexer] = value instead\n",
      "\n",
      "See the caveats in the documentation: https://pandas.pydata.org/pandas-docs/stable/user_guide/indexing.html#returning-a-view-versus-a-copy\n",
      "  create_delta_time_column_df['DATE_POLICE_NOTIFIED'] = pd.to_datetime(create_delta_time_column_df['DATE_POLICE_NOTIFIED'], errors='coerce')\n",
      "C:\\Users\\alex1\\AppData\\Local\\Temp\\ipykernel_31904\\2461194022.py:8: SettingWithCopyWarning: \n",
      "A value is trying to be set on a copy of a slice from a DataFrame.\n",
      "Try using .loc[row_indexer,col_indexer] = value instead\n",
      "\n",
      "See the caveats in the documentation: https://pandas.pydata.org/pandas-docs/stable/user_guide/indexing.html#returning-a-view-versus-a-copy\n",
      "  create_delta_time_column_df['DELTA_TIME_CRASH_DATE_POLICE_REPORT_DATE'] = delta_time.apply(lambda x: f\"{x.days} days {x.seconds // 60} minutes {x.seconds % 60} seconds\")\n"
     ]
    }
   ],
   "source": [
    "# Convert the date columns to datetime format\n",
    "create_delta_time_column_df['CRASH_DATE'] = pd.to_datetime(create_delta_time_column_df['CRASH_DATE'], errors='coerce')\n",
    "create_delta_time_column_df['DATE_POLICE_NOTIFIED'] = pd.to_datetime(create_delta_time_column_df['DATE_POLICE_NOTIFIED'], errors='coerce')\n",
    "\n",
    "delta_time = create_delta_time_column_df['DATE_POLICE_NOTIFIED'] - create_delta_time_column_df['CRASH_DATE']\n",
    "\n",
    "# Create a new column with the format \"days minutes seconds\"\n",
    "create_delta_time_column_df['DELTA_TIME_CRASH_DATE_POLICE_REPORT_DATE'] = delta_time.apply(lambda x: f\"{x.days} days {x.seconds // 60} minutes {x.seconds % 60} seconds\")"
   ]
  },
  {
   "cell_type": "code",
   "execution_count": 24,
   "metadata": {},
   "outputs": [
    {
     "data": {
      "text/plain": [
       "0              0 days 0 minutes 0 seconds\n",
       "1              0 days 6 minutes 0 seconds\n",
       "2             0 days 37 minutes 0 seconds\n",
       "3             0 days 26 minutes 0 seconds\n",
       "4             0 days 30 minutes 0 seconds\n",
       "                       ...               \n",
       "257920    365 days 1120 minutes 0 seconds\n",
       "257921     731 days 222 minutes 0 seconds\n",
       "257922    730 days 1125 minutes 0 seconds\n",
       "257923      730 days 10 minutes 0 seconds\n",
       "257924     1705 days 46 minutes 0 seconds\n",
       "Name: DELTA_TIME_CRASH_DATE_POLICE_REPORT_DATE, Length: 257925, dtype: object"
      ]
     },
     "execution_count": 24,
     "metadata": {},
     "output_type": "execute_result"
    }
   ],
   "source": [
    "create_delta_time_column_df['DELTA_TIME_CRASH_DATE_POLICE_REPORT_DATE']"
   ]
  },
  {
   "cell_type": "markdown",
   "metadata": {},
   "source": [
    "BEAT_OF_OCCURRENCE can be found by the latitude and longitude and location data"
   ]
  }
 ],
 "metadata": {
  "kernelspec": {
   "display_name": "Python 3",
   "language": "python",
   "name": "python3"
  },
  "language_info": {
   "codemirror_mode": {
    "name": "ipython",
    "version": 3
   },
   "file_extension": ".py",
   "mimetype": "text/x-python",
   "name": "python",
   "nbconvert_exporter": "python",
   "pygments_lexer": "ipython3",
   "version": "3.9.13"
  }
 },
 "nbformat": 4,
 "nbformat_minor": 2
}
