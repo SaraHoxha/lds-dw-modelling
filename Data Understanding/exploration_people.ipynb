{
 "cells": [
  {
   "cell_type": "code",
   "execution_count": 1,
   "metadata": {},
   "outputs": [],
   "source": [
    "#Imports\n",
    "import pandas as pd\n",
    "import numpy as np\n",
    "import plotly.express as px"
   ]
  },
  {
   "cell_type": "markdown",
   "metadata": {},
   "source": [
    "## PEOPLE DATASET EXPLORATION"
   ]
  },
  {
   "cell_type": "code",
   "execution_count": 2,
   "metadata": {},
   "outputs": [],
   "source": [
    "# Load the csv file\n",
    "people_df = pd.read_csv('../../data/People.csv')"
   ]
  },
  {
   "cell_type": "code",
   "execution_count": 4,
   "metadata": {},
   "outputs": [],
   "source": [
    "us_cities_info = pd.read_csv('../../data/us_cities_info.csv')"
   ]
  },
  {
   "cell_type": "code",
   "execution_count": null,
   "metadata": {},
   "outputs": [],
   "source": [
    "# Print information\n",
    "print('Info:')\n",
    "people_df.info()\n",
    "\n",
    "#Print columns\n",
    "print('\\nColumns:')\n",
    "print(people_df.columns)\n",
    "\n",
    "#Print shape\n",
    "print('\\nShape:')\n",
    "print(people_df.shape)\n"
   ]
  },
  {
   "cell_type": "code",
   "execution_count": null,
   "metadata": {},
   "outputs": [],
   "source": [
    "#Get unique values per non-numeric columns\n",
    "for column in people_df.select_dtypes(exclude=[np.number]):\n",
    "    print(f\"Unique values in {column}:\")\n",
    "    print(people_df[column].unique())\n",
    "    print(\"\\n\")"
   ]
  },
  {
   "cell_type": "code",
   "execution_count": null,
   "metadata": {},
   "outputs": [],
   "source": [
    "#Check Duplicated Observations\n",
    "people_df.duplicated().sum()"
   ]
  },
  {
   "cell_type": "code",
   "execution_count": null,
   "metadata": {},
   "outputs": [],
   "source": [
    "# Check entries that 'CITY' column has a numeric value\n",
    "people_df['CITY_numeric'] = pd.to_numeric(people_df['CITY'], errors='coerce')\n",
    "numeric_count = people_df['CITY_numeric'].notna().sum()\n",
    "print(numeric_count)"
   ]
  },
  {
   "cell_type": "code",
   "execution_count": 4,
   "metadata": {},
   "outputs": [
    {
     "name": "stdout",
     "output_type": "stream",
     "text": [
      "Missing values per column:\n",
      "PERSON_ID                     0\n",
      "PERSON_TYPE                   0\n",
      "RD_NO                         0\n",
      "VEHICLE_ID                10696\n",
      "CRASH_DATE                    0\n",
      "CITY                     143920\n",
      "STATE                    141976\n",
      "SEX                        7154\n",
      "AGE                      160981\n",
      "SAFETY_EQUIPMENT           1410\n",
      "AIRBAG_DEPLOYED           10452\n",
      "EJECTION                   6705\n",
      "INJURY_CLASSIFICATION       296\n",
      "DRIVER_ACTION            109766\n",
      "DRIVER_VISION            109884\n",
      "PHYSICAL_CONDITION       109501\n",
      "BAC_RESULT               108833\n",
      "DAMAGE_CATEGORY               0\n",
      "DAMAGE                    74309\n",
      "dtype: int64\n",
      "\n",
      "Columns with missing values:\n",
      "['VEHICLE_ID', 'CITY', 'STATE', 'SEX', 'AGE', 'SAFETY_EQUIPMENT', 'AIRBAG_DEPLOYED', 'EJECTION', 'INJURY_CLASSIFICATION', 'DRIVER_ACTION', 'DRIVER_VISION', 'PHYSICAL_CONDITION', 'BAC_RESULT', 'DAMAGE']\n"
     ]
    }
   ],
   "source": [
    "#Check if there are missing values and how many\n",
    "print('Missing values per column:')\n",
    "print(people_df.isna().sum())\n",
    "\n",
    "# Print columns with missing values\n",
    "columns_with_missing_values = people_df.columns[people_df.isnull().any()].tolist()\n",
    "print('\\nColumns with missing values:')\n",
    "print(columns_with_missing_values)"
   ]
  },
  {
   "cell_type": "code",
   "execution_count": 3,
   "metadata": {},
   "outputs": [],
   "source": [
    "people_df['CITY'].value_counts().to_csv('cities.csv')"
   ]
  },
  {
   "cell_type": "code",
   "execution_count": null,
   "metadata": {},
   "outputs": [],
   "source": [
    "#Get value counts for columns with missing values\n",
    "for col in people_df[columns_with_missing_values]:\n",
    "    print(people_df[col].value_counts())\n",
    "    print('------')"
   ]
  },
  {
   "cell_type": "code",
   "execution_count": 7,
   "metadata": {},
   "outputs": [
    {
     "name": "stdout",
     "output_type": "stream",
     "text": [
      "Column name: CITY\n",
      "---\n",
      "Column name: SAFETY_EQUIPMENT\n",
      "---\n",
      "Column name: AIRBAG_DEPLOYED\n",
      "---\n",
      "Column name: EJECTION\n",
      "---\n",
      "Column name: DRIVER_ACTION\n",
      "---\n",
      "Column name: DRIVER_VISION\n",
      "---\n",
      "Column name: PHYSICAL_CONDITION\n",
      "---\n",
      "Column name: BAC_RESULT\n",
      "---\n"
     ]
    }
   ],
   "source": [
    "# Retrieve columns that provide a value containing \"Unknown\" substring to indicate when the information for that column is not known.\n",
    "for col in people_df[columns_with_missing_values]:\n",
    "    if people_df[col].astype(str).str.contains('unknown', case=False, na=False).any():\n",
    "        print(f'Column name: {col}')\n",
    "        print('---')\n",
    "        people_df[col].value_counts().to_csv(f'{col} value counts')\n",
    "        "
   ]
  },
  {
   "cell_type": "markdown",
   "metadata": {},
   "source": [
    "'PEOPLE' columns that provide an 'UNKNOWN' value\n",
    "From the columns with missing values:\n",
    "\n",
    "1. CITY\n",
    "2. SAFETY_EQUIPMENT\n",
    "3. AIRBAG_DEPLOYED\n",
    "4. EJECTION\n",
    "5. DRIVER_ACTION\n",
    "6. DRIVER_VISION\n",
    "7. PHYSICAL CONDITION\n",
    "8. BAC_RESULT"
   ]
  },
  {
   "cell_type": "markdown",
   "metadata": {},
   "source": [
    "## Queries to explore potential value pairings"
   ]
  },
  {
   "cell_type": "code",
   "execution_count": 34,
   "metadata": {},
   "outputs": [
    {
     "name": "stdout",
     "output_type": "stream",
     "text": [
      "Count of observations that have the \"CITY\" column filled but not the \"STATE\" column:\n",
      "9005\n",
      "First 5 rows that have the \"CITY\" column filled but not the \"STATE\" column:\n",
      "                 CITY STATE\n",
      "727           CHICAGO   NaN\n",
      "755           CHICAGO   NaN\n",
      "757   LAURIER-STATION   NaN\n",
      "996           CHICAGO   NaN\n",
      "1003          CHICAGO   NaN\n"
     ]
    }
   ],
   "source": [
    "# Check if there are observations where city is known but state is NaN\n",
    "print('Count of observations that have the \\\"CITY\\\" column filled but not the \\\"STATE\\\" column:')\n",
    "count_rows_without_states= people_df[columns_with_missing_values].query('CITY == CITY and STATE != STATE')[['CITY', 'STATE']].shape[0]\n",
    "print(count_rows_without_states)\n",
    "if count_rows_without_states > 0:\n",
    "    print('First 5 rows that have the \\\"CITY\\\" column filled but not the \\\"STATE\\\" column:')\n",
    "    print(people_df[columns_with_missing_values].query('CITY == CITY and STATE != STATE')[['CITY', 'STATE']].head(5))"
   ]
  },
  {
   "cell_type": "code",
   "execution_count": 33,
   "metadata": {},
   "outputs": [
    {
     "name": "stdout",
     "output_type": "stream",
     "text": [
      "Count of observations that have the \"STATE\" column filled but not the \"CITY\" column:\n",
      "10949\n",
      "First 5 rows that have the \"STATE\" column filled but not the \"CITY\" column:\n",
      "    CITY STATE\n",
      "39   NaN    IL\n",
      "61   NaN    IL\n",
      "132  NaN    XX\n",
      "199  NaN    IL\n",
      "200  NaN    IL\n"
     ]
    }
   ],
   "source": [
    "# Check if there are observations where state is known but city is NaN\n",
    "print('Count of observations that have the \\\"STATE\\\" column filled but not the \\\"CITY\\\" column:')\n",
    "count_rows_without_cities = people_df[columns_with_missing_values].query('CITY != CITY and STATE == STATE')[['CITY', 'STATE']].shape[0]\n",
    "print(count_rows_without_cities)\n",
    "if count_rows_without_cities > 0:\n",
    "    print('First 5 rows that have the \\\"STATE\\\" column filled but not the \\\"CITY\\\" column:')\n",
    "    print(people_df[columns_with_missing_values].query('CITY != CITY and STATE == STATE')[['CITY', 'STATE']].head(5))"
   ]
  },
  {
   "cell_type": "code",
   "execution_count": null,
   "metadata": {},
   "outputs": [],
   "source": [
    "# Check if there are observations where the type is \"PASSENGER\" and \"\"DRIVER_ACTION\" or \"DRIVER_VERSION\" are filled\n",
    "print('Count of observations that have the \\\"PERSON_TYPE\\\" as \"PASSENGER\" and the columns  \\\"DRIVER_ACTION\\\" or \\\"DRIVER_VERSION\\\" filled:')\n",
    "count_passenger_with_driver_info = people_df.query('PERSON_TYPE == \"PASSENGER\" and (DRIVER_ACTION == DRIVER_ACTION or DRIVER_VISION == DRIVER_VISION)').shape[0]\n",
    "print(count_passenger_with_driver_info)\n",
    "if count_passenger_with_driver_info > 0:\n",
    "    print(people_df.query('PERSON_TYPE == \"PASSENGER\" and (DRIVER_ACTION == DRIVER_ACTION or DRIVER_VISION == DRIVER_VISION)').head(5))"
   ]
  },
  {
   "cell_type": "code",
   "execution_count": null,
   "metadata": {},
   "outputs": [],
   "source": [
    "# Check if there are observations where the \"AGE\" < 10  and \"PERSON_TYPE\" is \"DRIVER\" (Anomalies)\n",
    "print('Count of observations that have the \"AGE\" < 10 and \\\"PERSON_TYPE\\\" as \"DRIVER\":')\n",
    "count_age_0 = people_df.query('AGE  < 10 and PERSON_TYPE == \"DRIVER\"').shape[0]\n",
    "print(count_age_0)\n",
    "if count_age_0 > 0:\n",
    "    print(people_df.query('AGE < 10 and PERSON_TYPE == \"DRIVER\"')[['AGE', 'PERSON_TYPE']])"
   ]
  },
  {
   "cell_type": "markdown",
   "metadata": {},
   "source": [
    "## Plots"
   ]
  },
  {
   "cell_type": "code",
   "execution_count": null,
   "metadata": {},
   "outputs": [],
   "source": [
    "#List of columns to plot\n",
    "columns_to_plot = [\n",
    "'PERSON_TYPE',\n",
    "'STATE',\n",
    "'SEX',\n",
    "'SAFETY_EQUIPMENT',\n",
    "'AIRBAG_DEPLOYED',\n",
    "'EJECTION',\n",
    "'DRIVER_ACTION',\n",
    "'DRIVER_VISION',\n",
    "'PHYSICAL_CONDITION',\n",
    "'BAC_RESULT',\n",
    "'DAMAGE_CATEGORY'\n",
    "]\n",
    "\n",
    "\n",
    "#Plot each column\n",
    "for column in columns_to_plot:\n",
    "    fig = px.bar(people_df, \n",
    "                 x=column, \n",
    "                 labels={'x': column, 'y': 'Frequency'},\n",
    "                 title=f'Distribution of {column}')\n",
    "    # Customize hover information\n",
    "    fig.update_traces(hovertemplate='Frequency: %{y}<extra></extra>')\n",
    "    fig.update_xaxes(tickangle=45)\n",
    "    fig.show()"
   ]
  },
  {
   "cell_type": "code",
   "execution_count": null,
   "metadata": {},
   "outputs": [],
   "source": [
    "fig = px.histogram(people_df, x='AGE', \n",
    "                   title='Age Distribution',\n",
    "                   labels={'AGE': 'Age', 'count': 'Frequency'},\n",
    "                   nbins=20) \n",
    "# Customize hover information\n",
    "fig.update_traces(hovertemplate='Frequency: %{y}<extra></extra>')\n",
    "fig.show()"
   ]
  },
  {
   "cell_type": "markdown",
   "metadata": {},
   "source": [
    "## Potential changes\n",
    "\n",
    "After the data exploration on \"People\" dataframe, I believe we should:\n",
    "1. Use \"CITY\" column to determine \"STATE\" column when the latter is empty. ✅\n",
    "2. Make following mapping for 'SEX' values: U & NaN values -> \"U\"(unknown)✅\n",
    "3. For all the columns that already provide an \"unknown\" possible value, fill NaN observations with this value.✅\n",
    "4. Convert \"VEHICLE_ID\"  & \"AGE\" to an integer. ✅\n",
    "5. Add new value 'N/A' ('NON APPLICABLE') for observations that the person_type is passenger and we have missing values on columns that regard the driver ('DRIVER_VISION' & 'DRIVER_ACTION').✅\n",
    "6. Split the 'CRASH_DATE' into 'DAY', 'MONTH', 'YEAR', 'TIME' columns✅\n",
    "7. Introduce either a sentinel value or 'NaN' value for 'AGE' for observations when \"AGE\" < 10  and \"PERSON_TYPE\" is \"DRIVER\"✅\n",
    "8. Make 'STATE' column have the value 'Unknown' when 'CITY' is 'UNKNOWN' or STATE == 'XX'.✅\n",
    "9. Set 'CITY' column have the value 'Unknown' when 'city' has numeric value, length < 2 or starts with UNK✅"
   ]
  }
 ],
 "metadata": {
  "kernelspec": {
   "display_name": "base",
   "language": "python",
   "name": "python3"
  },
  "language_info": {
   "codemirror_mode": {
    "name": "ipython",
    "version": 3
   },
   "file_extension": ".py",
   "mimetype": "text/x-python",
   "name": "python",
   "nbconvert_exporter": "python",
   "pygments_lexer": "ipython3",
   "version": "3.12.7"
  }
 },
 "nbformat": 4,
 "nbformat_minor": 2
}
