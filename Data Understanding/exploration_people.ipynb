{
 "cells": [
  {
   "cell_type": "code",
   "execution_count": null,
   "metadata": {},
   "outputs": [],
   "source": [
    "#Imports\n",
    "import pandas as pd\n",
    "import numpy as np\n",
    "import plotly.express as px"
   ]
  },
  {
   "cell_type": "markdown",
   "metadata": {},
   "source": [
    "## PEOPLE Data Exploration"
   ]
  },
  {
   "cell_type": "code",
   "execution_count": null,
   "metadata": {},
   "outputs": [],
   "source": [
    "# Load the csv file\n",
    "people_df = pd.read_csv('../data/People.csv')"
   ]
  },
  {
   "cell_type": "code",
   "execution_count": null,
   "metadata": {},
   "outputs": [],
   "source": [
    "us_cities_info = pd.read_csv('../data/us_cities_info.csv')"
   ]
  },
  {
   "cell_type": "code",
   "execution_count": null,
   "metadata": {},
   "outputs": [],
   "source": [
    "# Print information\n",
    "print('Info:')\n",
    "people_df.info()\n",
    "\n",
    "#Print columns\n",
    "print('\\nColumns:')\n",
    "print(people_df.columns)\n",
    "\n",
    "#Print shape\n",
    "print('\\nShape:')\n",
    "print(people_df.shape)\n"
   ]
  },
  {
   "cell_type": "code",
   "execution_count": null,
   "metadata": {},
   "outputs": [],
   "source": [
    "#Get unique values per non-numeric columns\n",
    "for column in people_df.select_dtypes(exclude=[np.number]):\n",
    "    print(f\"Unique values in {column}:\")\n",
    "    print(people_df[column].unique())\n",
    "    print(\"\\n\")"
   ]
  },
  {
   "cell_type": "code",
   "execution_count": null,
   "metadata": {},
   "outputs": [],
   "source": [
    "#Check Duplicated Observations\n",
    "people_df.duplicated().sum()"
   ]
  },
  {
   "cell_type": "code",
   "execution_count": null,
   "metadata": {},
   "outputs": [],
   "source": [
    "# Check entries that 'CITY' column has a numeric value\n",
    "people_df['CITY_numeric'] = pd.to_numeric(people_df['CITY'], errors='coerce')\n",
    "numeric_count = people_df['CITY_numeric'].notna().sum()\n",
    "print(numeric_count)"
   ]
  },
  {
   "cell_type": "markdown",
   "metadata": {},
   "source": [
    "## Plots"
   ]
  },
  {
   "cell_type": "code",
   "execution_count": null,
   "metadata": {},
   "outputs": [],
   "source": [
    "#List of columns to plot\n",
    "columns_to_plot = [\n",
    "'PERSON_TYPE',\n",
    "'STATE',\n",
    "'SEX',\n",
    "'SAFETY_EQUIPMENT',\n",
    "'AIRBAG_DEPLOYED',\n",
    "'EJECTION',\n",
    "'DRIVER_ACTION',\n",
    "'DRIVER_VISION',\n",
    "'PHYSICAL_CONDITION',\n",
    "'BAC_RESULT',\n",
    "'DAMAGE_CATEGORY'\n",
    "]\n",
    "\n",
    "\n",
    "#Plot each column\n",
    "for column in columns_to_plot:\n",
    "    fig = px.bar(people_df, \n",
    "                 x=column, \n",
    "                 labels={'x': column, 'y': 'Frequency'},\n",
    "                 title=f'Distribution of {column}')\n",
    "    # Customize hover information\n",
    "    fig.update_traces(hovertemplate='Frequency: %{y}<extra></extra>')\n",
    "    fig.update_xaxes(tickangle=45)\n",
    "    fig.show()"
   ]
  },
  {
   "cell_type": "code",
   "execution_count": null,
   "metadata": {},
   "outputs": [],
   "source": [
    "fig = px.histogram(people_df, x='AGE', \n",
    "                   title='Age Distribution',\n",
    "                   labels={'AGE': 'Age', 'count': 'Frequency'},\n",
    "                   nbins=20) \n",
    "# Customize hover information\n",
    "fig.update_traces(hovertemplate='Frequency: %{y}<extra></extra>')\n",
    "fig.show()"
   ]
  },
  {
   "cell_type": "markdown",
   "metadata": {},
   "source": [
    "## Changes\n",
    "\n",
    "After the data exploration on \"People\" dataframe, I believe we should:\n",
    "1. Use \"CITY\" column to determine \"STATE\" column when the latter is empty. \n",
    "2. Make following mapping for 'SEX' values: U & NaN values -> \"U\"(unknown)\n",
    "3. For all the columns that already provide an \"unknown\" possible value, fill NaN observations with this value.\n",
    "4. Convert \"VEHICLE_ID\"  & \"AGE\" to an integer. \n",
    "5. Add new value 'N/A' ('NON APPLICABLE') for observations that the person_type is passenger and we have missing values on columns that regard the driver ('DRIVER_VISION' & 'DRIVER_ACTION').\n",
    "6. Split the 'CRASH_DATE' into 'DAY', 'MONTH', 'YEAR', 'TIME' columns\n",
    "7. Use 'NaN' value for 'AGE' for observations when \"AGE\" < 10  and \"PERSON_TYPE\" is \"DRIVER\"\n",
    "8. Make 'STATE' column have the value 'Unknown' when 'CITY' is 'UNKNOWN' or STATE == 'XX'.\n",
    "9. Set 'CITY' column have the value 'Unknown' when 'city' has numeric value, length < 2 or starts with UNK"
   ]
  }
 ],
 "metadata": {
  "kernelspec": {
   "display_name": "base",
   "language": "python",
   "name": "python3"
  },
  "language_info": {
   "codemirror_mode": {
    "name": "ipython",
    "version": 3
   },
   "file_extension": ".py",
   "mimetype": "text/x-python",
   "name": "python",
   "nbconvert_exporter": "python",
   "pygments_lexer": "ipython3",
   "version": "3.12.7"
  }
 },
 "nbformat": 4,
 "nbformat_minor": 2
}
