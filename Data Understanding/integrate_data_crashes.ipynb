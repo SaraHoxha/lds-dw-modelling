{
 "cells": [
  {
   "cell_type": "markdown",
   "metadata": {},
   "source": [
    "Can you integrate additional data (hierarchical GeoHash/Uber H3/Google S2 encoding for spatial data, properties of the road, additional weather conditions, etc.) from external sources with a reasonable effort?"
   ]
  },
  {
   "cell_type": "code",
   "execution_count": 1,
   "metadata": {},
   "outputs": [],
   "source": [
    "#Imports\n",
    "import pandas as pd"
   ]
  },
  {
   "cell_type": "code",
   "execution_count": 2,
   "metadata": {},
   "outputs": [],
   "source": [
    "#Read crashes data\n",
    "crashes_df = pd.read_csv('../data/Crashes.csv')"
   ]
  },
  {
   "cell_type": "markdown",
   "metadata": {},
   "source": [
    "### External Integration"
   ]
  },
  {
   "cell_type": "code",
   "execution_count": null,
   "metadata": {},
   "outputs": [],
   "source": [
    "#Filtering data for the columns we need (geographical data)\n",
    "only_geo_data_df = crashes_df[[\"LOCATION\", \"LONGITUDE\", \"LATITUDE\", \"STREET_NAME\", \"STREET_NO\", \"BEAT_OF_OCCURRENCE\"]]\n",
    "only_geo_data_df"
   ]
  },
  {
   "cell_type": "code",
   "execution_count": null,
   "metadata": {},
   "outputs": [],
   "source": [
    "#Checking for missing values\n",
    "only_geo_data_df.isna().sum()[crashes_df.isna().sum() > 0]\n"
   ]
  },
  {
   "cell_type": "code",
   "execution_count": 5,
   "metadata": {},
   "outputs": [],
   "source": [
    "#Function to get the API key\n",
    "def getApiKey ():\n",
    "    with open (\"api key\") as f:\n",
    "        return f.readline().strip()"
   ]
  },
  {
   "cell_type": "code",
   "execution_count": null,
   "metadata": {},
   "outputs": [],
   "source": [
    "#USING https://opencagedata.com/pricing (2500/calls a day for free)\n",
    "#this is a demo\n",
    "from opencage.geocoder import OpenCageGeocode\n",
    "\n",
    "key = getApiKey()\n",
    "geocoder = OpenCageGeocode(key)\n",
    "\n",
    "query = u'Bosutska ulica 10, Zagreb, Croatia'\n",
    "\n",
    "# no need to URI encode query, module does that for you\n",
    "results = geocoder.geocode(query)\n",
    "\n",
    "print(u'%f;%f;%s;%s' % (results[0]['geometry']['lat'],\n",
    "                        results[0]['geometry']['lng'],\n",
    "                        results[0]['components']['country_code'],\n",
    "                        results[0]['annotations']['timezone']['name']))"
   ]
  },
  {
   "cell_type": "code",
   "execution_count": null,
   "metadata": {},
   "outputs": [],
   "source": [
    "#Get the filtered data where the location info are missing\n",
    "filtered_geo_data_df = only_geo_data_df[only_geo_data_df[['LONGITUDE', 'LATITUDE', 'LOCATION']].isna().any(axis=1)]\n",
    "filtered_geo_data_df"
   ]
  },
  {
   "cell_type": "code",
   "execution_count": null,
   "metadata": {},
   "outputs": [],
   "source": [
    "from opencage.geocoder import OpenCageGeocode\n",
    "\n",
    "key = getApiKey()\n",
    "#geocoder = OpenCageGeocode(key)\n",
    "\n",
    "import json\n",
    "import time\n",
    "from tqdm import tqdm\n",
    "\n",
    "try:\n",
    "    with open (\"missing lat lng.json\") as f:\n",
    "        resultDict = json.load(f)\n",
    "except Exception:\n",
    "    resultDict = {}\n",
    "print (resultDict)\n",
    "for index, row in tqdm(filtered_geo_data_df.iterrows(), total=filtered_geo_data_df.shape[0]):\n",
    "    resultKey = str(row[\"STREET_NAME\"]) + \" \" + str(row[\"STREET_NO\"])\n",
    "    query = resultKey + \", Chicago, Illinois\"\n",
    "    print (\"Query: \" + query)\n",
    "    if resultKey not in resultDict:\n",
    "        results = geocoder.geocode(query)\n",
    "        resultDict[resultKey]= {\n",
    "            \"lat\": results[0]['geometry']['lat'],\n",
    "            \"lng\": results[0]['geometry']['lng'],\n",
    "        }\n",
    "        with open (\"missing lat lng.json\", \"w\") as f:\n",
    "            json.dump(resultDict, f, indent=4)\n",
    "            time.sleep(1)"
   ]
  },
  {
   "cell_type": "code",
   "execution_count": null,
   "metadata": {},
   "outputs": [],
   "source": [
    "#Checking the number of results\n",
    "len(resultDict.keys())"
   ]
  },
  {
   "cell_type": "markdown",
   "metadata": {},
   "source": [
    "We generate the queries using the following code:"
   ]
  },
  {
   "cell_type": "code",
   "execution_count": null,
   "metadata": {},
   "outputs": [],
   "source": [
    "allKeys = set()\n",
    "for index, row in tqdm(filtered_geo_data_df.iterrows(), total=filtered_geo_data_df.shape[0]):\n",
    "    resultKey = str(row[\"STREET_NAME\"]) + \" \" + str(row[\"STREET_NO\"])\n",
    "    allKeys.add(resultKey)\n",
    "\n",
    "len (allKeys)"
   ]
  },
  {
   "cell_type": "markdown",
   "metadata": {},
   "source": [
    "As a conclusion, we can see that there are only 548 missing values from the dataset and not 1022 as we previously thought.\n"
   ]
  }
 ],
 "metadata": {
  "kernelspec": {
   "display_name": "Python 3",
   "language": "python",
   "name": "python3"
  },
  "language_info": {
   "codemirror_mode": {
    "name": "ipython",
    "version": 3
   },
   "file_extension": ".py",
   "mimetype": "text/x-python",
   "name": "python",
   "nbconvert_exporter": "python",
   "pygments_lexer": "ipython3",
   "version": "3.9.13"
  }
 },
 "nbformat": 4,
 "nbformat_minor": 2
}
