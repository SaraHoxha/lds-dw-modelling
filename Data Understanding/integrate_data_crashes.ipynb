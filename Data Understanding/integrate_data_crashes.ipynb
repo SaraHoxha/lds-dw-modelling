{
 "cells": [
  {
   "cell_type": "markdown",
   "metadata": {},
   "source": [
    "Can you integrate additional data (hierarchical GeoHash/Uber H3/Google S2 encoding for spatial data, properties of the road, additional weather conditions, etc.) from external sources with a reasonable effort?"
   ]
  },
  {
   "cell_type": "markdown",
   "metadata": {},
   "source": [
    "### check with other datasets"
   ]
  },
  {
   "cell_type": "markdown",
   "metadata": {},
   "source": [
    "there are missing values, let's check if any of this columns are in the other 2 datasets"
   ]
  },
  {
   "cell_type": "code",
   "execution_count": null,
   "metadata": {},
   "outputs": [],
   "source": [
    "people_df = pd.read_csv('../data/People.csv')\n",
    "vehicles_df = pd.read_csv('../data/Vehicles.csv')"
   ]
  },
  {
   "cell_type": "code",
   "execution_count": null,
   "metadata": {},
   "outputs": [],
   "source": [
    "for col in set(list(people_df.columns)+list(vehicles_df.columns)):\n",
    "    if col in missing_values_dict.keys():\n",
    "        print(f'Column {col} is missing in both People and Vehicles datasets.')"
   ]
  },
  {
   "cell_type": "markdown",
   "metadata": {},
   "source": [
    "none are (or at least directly)"
   ]
  },
  {
   "cell_type": "code",
   "execution_count": null,
   "metadata": {},
   "outputs": [
    {
     "data": {
      "text/plain": [
       "(Index(['PERSON_ID', 'PERSON_TYPE', 'RD_NO', 'VEHICLE_ID', 'CRASH_DATE', 'CITY',\n",
       "        'STATE', 'SEX', 'AGE', 'SAFETY_EQUIPMENT', 'AIRBAG_DEPLOYED',\n",
       "        'EJECTION', 'INJURY_CLASSIFICATION', 'DRIVER_ACTION', 'DRIVER_VISION',\n",
       "        'PHYSICAL_CONDITION', 'BAC_RESULT', 'DAMAGE_CATEGORY', 'DAMAGE'],\n",
       "       dtype='object'),\n",
       " Index(['CRASH_UNIT_ID', 'RD_NO', 'CRASH_DATE', 'UNIT_NO', 'UNIT_TYPE',\n",
       "        'VEHICLE_ID', 'MAKE', 'MODEL', 'LIC_PLATE_STATE', 'VEHICLE_YEAR',\n",
       "        'VEHICLE_DEFECT', 'VEHICLE_TYPE', 'VEHICLE_USE', 'TRAVEL_DIRECTION',\n",
       "        'MANEUVER', 'OCCUPANT_CNT', 'FIRST_CONTACT_POINT'],\n",
       "       dtype='object'))"
      ]
     },
     "metadata": {},
     "output_type": "display_data"
    }
   ],
   "source": [
    "people_df.columns, vehicles_df.columns"
   ]
  },
  {
   "cell_type": "markdown",
   "metadata": {},
   "source": [
    "in vehicles we have a feature called TRAVEL_DIRECTION that might contain the same information as STREET_DIRECTION"
   ]
  },
  {
   "cell_type": "code",
   "execution_count": null,
   "metadata": {},
   "outputs": [],
   "source": [
    "#let's join the 2 datasets on rd_no and keeping only street direction and travel direction from the 2\n",
    "joined_df = crashes_df[['RD_NO', 'STREET_DIRECTION']].merge(\n",
    "    vehicles_df[['RD_NO', 'TRAVEL_DIRECTION']],\n",
    "    on='RD_NO',\n",
    "    how='inner'\n",
    ")\n",
    "missing_values = joined_df.isna().sum()"
   ]
  },
  {
   "cell_type": "code",
   "execution_count": null,
   "metadata": {},
   "outputs": [
    {
     "data": {
      "text/html": [
       "<div>\n",
       "<style scoped>\n",
       "    .dataframe tbody tr th:only-of-type {\n",
       "        vertical-align: middle;\n",
       "    }\n",
       "\n",
       "    .dataframe tbody tr th {\n",
       "        vertical-align: top;\n",
       "    }\n",
       "\n",
       "    .dataframe thead th {\n",
       "        text-align: right;\n",
       "    }\n",
       "</style>\n",
       "<table border=\"1\" class=\"dataframe\">\n",
       "  <thead>\n",
       "    <tr style=\"text-align: right;\">\n",
       "      <th></th>\n",
       "      <th>RD_NO</th>\n",
       "      <th>STREET_DIRECTION</th>\n",
       "      <th>TRAVEL_DIRECTION</th>\n",
       "    </tr>\n",
       "  </thead>\n",
       "  <tbody>\n",
       "    <tr>\n",
       "      <th>0</th>\n",
       "      <td>JC113649</td>\n",
       "      <td>N</td>\n",
       "      <td>S</td>\n",
       "    </tr>\n",
       "    <tr>\n",
       "      <th>1</th>\n",
       "      <td>JC113627</td>\n",
       "      <td>N</td>\n",
       "      <td>S</td>\n",
       "    </tr>\n",
       "    <tr>\n",
       "      <th>2</th>\n",
       "      <td>JC113627</td>\n",
       "      <td>N</td>\n",
       "      <td>E</td>\n",
       "    </tr>\n",
       "    <tr>\n",
       "      <th>3</th>\n",
       "      <td>JC113637</td>\n",
       "      <td>S</td>\n",
       "      <td>N</td>\n",
       "    </tr>\n",
       "    <tr>\n",
       "      <th>4</th>\n",
       "      <td>JC113637</td>\n",
       "      <td>S</td>\n",
       "      <td>S</td>\n",
       "    </tr>\n",
       "    <tr>\n",
       "      <th>...</th>\n",
       "      <td>...</td>\n",
       "      <td>...</td>\n",
       "      <td>...</td>\n",
       "    </tr>\n",
       "    <tr>\n",
       "      <th>460432</th>\n",
       "      <td>HZ164689</td>\n",
       "      <td>N</td>\n",
       "      <td>S</td>\n",
       "    </tr>\n",
       "    <tr>\n",
       "      <th>460433</th>\n",
       "      <td>HZ122950</td>\n",
       "      <td>S</td>\n",
       "      <td>S</td>\n",
       "    </tr>\n",
       "    <tr>\n",
       "      <th>460434</th>\n",
       "      <td>HZ122950</td>\n",
       "      <td>S</td>\n",
       "      <td>W</td>\n",
       "    </tr>\n",
       "    <tr>\n",
       "      <th>460435</th>\n",
       "      <td>JB442550</td>\n",
       "      <td>W</td>\n",
       "      <td>E</td>\n",
       "    </tr>\n",
       "    <tr>\n",
       "      <th>460436</th>\n",
       "      <td>JB442550</td>\n",
       "      <td>W</td>\n",
       "      <td>E</td>\n",
       "    </tr>\n",
       "  </tbody>\n",
       "</table>\n",
       "<p>460437 rows × 3 columns</p>\n",
       "</div>"
      ],
      "text/plain": [
       "           RD_NO STREET_DIRECTION TRAVEL_DIRECTION\n",
       "0       JC113649                N                S\n",
       "1       JC113627                N                S\n",
       "2       JC113627                N                E\n",
       "3       JC113637                S                N\n",
       "4       JC113637                S                S\n",
       "...          ...              ...              ...\n",
       "460432  HZ164689                N                S\n",
       "460433  HZ122950                S                S\n",
       "460434  HZ122950                S                W\n",
       "460435  JB442550                W                E\n",
       "460436  JB442550                W                E\n",
       "\n",
       "[460437 rows x 3 columns]"
      ]
     },
     "metadata": {},
     "output_type": "display_data"
    }
   ],
   "source": [
    "joined_df"
   ]
  },
  {
   "cell_type": "code",
   "execution_count": null,
   "metadata": {},
   "outputs": [
    {
     "data": {
      "text/plain": [
       "RD_NO                   0\n",
       "STREET_DIRECTION        4\n",
       "TRAVEL_DIRECTION    10373\n",
       "dtype: int64"
      ]
     },
     "metadata": {},
     "output_type": "display_data"
    }
   ],
   "source": [
    "missing_values"
   ]
  },
  {
   "cell_type": "code",
   "execution_count": null,
   "metadata": {},
   "outputs": [
    {
     "data": {
      "text/plain": [
       "(291438, (460437, 3), 168999)"
      ]
     },
     "metadata": {},
     "output_type": "display_data"
    }
   ],
   "source": [
    "#mismatch, shape, #shape-#mismatch\n",
    "(joined_df['STREET_DIRECTION'] != joined_df['TRAVEL_DIRECTION']).sum(), joined_df.shape, joined_df.shape[0]-(joined_df['STREET_DIRECTION'] != joined_df['TRAVEL_DIRECTION']).sum()"
   ]
  },
  {
   "cell_type": "code",
   "execution_count": null,
   "metadata": {},
   "outputs": [
    {
     "data": {
      "text/plain": [
       "10373"
      ]
     },
     "metadata": {},
     "output_type": "display_data"
    }
   ],
   "source": [
    "vehicles_df[\"TRAVEL_DIRECTION\"].isna().sum()"
   ]
  },
  {
   "cell_type": "markdown",
   "metadata": {},
   "source": [
    "the 2 columns seem to be unrealted to each other:\n",
    "- other than the fact that 10373 rows values are missing from the travel_direction column,\n",
    "- the number of mismatch between the total number of rows in the dataset and the number of mismatch (therfore the number of values that match is just ~1/3 of the number of rows, we will have to find this info in another way)"
   ]
  },
  {
   "cell_type": "markdown",
   "metadata": {},
   "source": [
    "### external integration"
   ]
  },
  {
   "cell_type": "markdown",
   "metadata": {},
   "source": [
    "need to find street direction since the similar named column in the vehicles dataset didnt yeld any good results"
   ]
  },
  {
   "cell_type": "markdown",
   "metadata": {},
   "source": [
    "might be able to get LATITUDE, LONGITUDE and LOCATION using the infos in STREET_NAME (and viceversa for the single street name value present)"
   ]
  },
  {
   "cell_type": "markdown",
   "metadata": {},
   "source": [
    "remember to check if the street name have a null value in them (just check for the frequency of the street names, they should all be different(?), so if there is one repeating it probably is a mock value)"
   ]
  },
  {
   "cell_type": "markdown",
   "metadata": {},
   "source": [
    "no idea what REPORT_TYPE, BEAT_OF_OCCURRENCE and MOST_SEVERE_INJURY so will need to check the values and the other datasets for something regarding those"
   ]
  },
  {
   "cell_type": "markdown",
   "metadata": {},
   "source": [
    "### internal integration"
   ]
  },
  {
   "cell_type": "markdown",
   "metadata": {},
   "source": [
    "since we have CRASH_DATE and DATE_POLICE_NOTIFIED we can find the delta of days that passed between the crash date and the report to the police"
   ]
  },
  {
   "cell_type": "markdown",
   "metadata": {},
   "source": [
    "BEAT_OF_OCCURRENCE can be found by the latitude and longitude and location data"
   ]
  },
  {
   "cell_type": "code",
   "execution_count": null,
   "metadata": {},
   "outputs": [],
   "source": []
  },
  {
   "cell_type": "markdown",
   "metadata": {},
   "source": [
    "### dunno"
   ]
  },
  {
   "cell_type": "markdown",
   "metadata": {},
   "source": [
    "no idea about REPORT_TYPE and MOST_SEVERE_INJURY so will need to check the values and the other datasets for something regarding those"
   ]
  }
 ],
 "metadata": {
  "language_info": {
   "name": "python"
  }
 },
 "nbformat": 4,
 "nbformat_minor": 2
}
