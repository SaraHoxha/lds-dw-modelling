{
 "cells": [
  {
   "cell_type": "code",
   "execution_count": 2,
   "metadata": {},
   "outputs": [],
   "source": [
    "#Imports\n",
    "import pandas as pd"
   ]
  },
  {
   "cell_type": "code",
   "execution_count": 3,
   "metadata": {},
   "outputs": [],
   "source": [
    "#Read Vehicles dataset\n",
    "data = pd.read_csv('../data/Vehicles.csv',encoding='utf-8')"
   ]
  },
  {
   "cell_type": "markdown",
   "metadata": {},
   "source": [
    "# Missing and Unique values"
   ]
  },
  {
   "cell_type": "code",
   "execution_count": 4,
   "metadata": {},
   "outputs": [
    {
     "name": "stdout",
     "output_type": "stream",
     "text": [
      "CRASH_UNIT_ID: 460437\n",
      "RD_NO: 257925\n",
      "CRASH_DATE: 166465\n",
      "UNIT_NO: 11\n",
      "UNIT_TYPE: 7\n",
      "VEHICLE_ID: 450064\n",
      "MAKE: 665\n",
      "MODEL: 1574\n",
      "LIC_PLATE_STATE: 52\n",
      "VEHICLE_YEAR: 131\n",
      "VEHICLE_DEFECT: 17\n",
      "VEHICLE_TYPE: 18\n",
      "VEHICLE_USE: 25\n",
      "TRAVEL_DIRECTION: 9\n",
      "MANEUVER: 27\n",
      "OCCUPANT_CNT: 40\n",
      "FIRST_CONTACT_POINT: 14\n",
      "------------------------\n",
      "CRASH_UNIT_ID: 0\n",
      "RD_NO: 0\n",
      "CRASH_DATE: 0\n",
      "UNIT_NO: 0\n",
      "UNIT_TYPE: 1\n",
      "VEHICLE_ID: 10373\n",
      "MAKE: 10373\n",
      "MODEL: 11786\n",
      "LIC_PLATE_STATE: 49629\n",
      "VEHICLE_YEAR: 88655\n",
      "VEHICLE_DEFECT: 10373\n",
      "VEHICLE_TYPE: 10373\n",
      "VEHICLE_USE: 10373\n",
      "TRAVEL_DIRECTION: 10373\n",
      "MANEUVER: 10373\n",
      "OCCUPANT_CNT: 10373\n",
      "FIRST_CONTACT_POINT: 10388\n"
     ]
    }
   ],
   "source": [
    "#Print the number of unique values for each column\n",
    "for col in data.columns:\n",
    "    print(str(col) +\": \"+ str(data[col].nunique()))\n",
    "#Print the number of missing values for each column\n",
    "print(\"------------------------\")\n",
    "for col in data.columns:\n",
    "    print(str(col) +\": \"+ str(data[col].isna().sum()))"
   ]
  }
 ],
 "metadata": {
  "kernelspec": {
   "display_name": "masterDS-exp",
   "language": "python",
   "name": "python3"
  },
  "language_info": {
   "codemirror_mode": {
    "name": "ipython",
    "version": 3
   },
   "file_extension": ".py",
   "mimetype": "text/x-python",
   "name": "python",
   "nbconvert_exporter": "python",
   "pygments_lexer": "ipython3",
   "version": "3.11.5"
  }
 },
 "nbformat": 4,
 "nbformat_minor": 2
}
