{
 "cells": [
  {
   "cell_type": "code",
   "execution_count": 13,
   "metadata": {},
   "outputs": [],
   "source": [
    "from utils.read_write import read_csv_v2, to_csv_v2"
   ]
  },
  {
   "cell_type": "code",
   "execution_count": 14,
   "metadata": {},
   "outputs": [
    {
     "name": "stdout",
     "output_type": "stream",
     "text": [
      "Reading csv People_Processed.csv\n",
      "Reading csv Vehicles_Processed.csv\n",
      "Reading csv Crashes_Processed.csv\n"
     ]
    }
   ],
   "source": [
    "processedFileString = '_Processed.csv'\n",
    "people_df=read_csv_v2('../data/People'+processedFileString)\n",
    "vehicles_df=read_csv_v2('../data/Vehicles'+processedFileString)\n",
    "crashes_df=read_csv_v2('../data/Crashes'+processedFileString)"
   ]
  },
  {
   "cell_type": "code",
   "execution_count": 15,
   "metadata": {},
   "outputs": [
    {
     "data": {
      "text/plain": [
       "(564241, 460437, 257925)"
      ]
     },
     "execution_count": 15,
     "metadata": {},
     "output_type": "execute_result"
    }
   ],
   "source": [
    "len(people_df), len(vehicles_df), len(crashes_df)"
   ]
  },
  {
   "cell_type": "code",
   "execution_count": 35,
   "metadata": {},
   "outputs": [],
   "source": [
    "from typing import List, Dict, Any\n",
    "from collections import OrderedDict\n",
    "import copy\n",
    "\n",
    "def create_dict_for_table(\n",
    "    dfs: List[List[Dict[str, Any]]],\n",
    "    columns_to_keep: List[List[str]],\n",
    "    new_column_names: List[List[str]],\n",
    "    use_index: List[bool],\n",
    "    index_names: List[str]\n",
    ") -> List[List[Dict[str, Any]]]:\n",
    "    \"\"\"\n",
    "    Process multiple lists of dictionaries by keeping selected columns, renaming them,\n",
    "    and optionally adding index columns. Creates deep copies of input dataframes to avoid\n",
    "    modifying original data.\n",
    "    \n",
    "    Args:\n",
    "        dfs: List of dataframes (each dataframe is a list of dictionaries)\n",
    "        columns_to_keep: List of lists containing column names to retain for each dataframe\n",
    "        new_column_names: List of lists containing new names for retained columns\n",
    "        use_index: List of booleans indicating whether to add index column for each dataframe\n",
    "        index_names: List of names for index columns\n",
    "    \n",
    "    Returns:\n",
    "        List of processed dataframes with copied and transformed data\n",
    "        \n",
    "    Raises:\n",
    "        ValueError: If input lists have inconsistent lengths or column mappings\n",
    "    \"\"\"\n",
    "    # Validate input lengths\n",
    "    input_lengths = [len(x) for x in (dfs, columns_to_keep, new_column_names, use_index, index_names)]\n",
    "    if len(set(input_lengths)) > 1:\n",
    "        raise ValueError(\n",
    "            f\"Inconsistent input lengths:\\n\"\n",
    "            f\"dfs: {input_lengths[0]}, columns_to_keep: {input_lengths[1]}, \"\n",
    "            f\"new_column_names: {input_lengths[2]}, use_index: {input_lengths[3]}, \"\n",
    "            f\"index_names: {input_lengths[4]}\"\n",
    "        )\n",
    "    \n",
    "    # Create a deep copy of the input dataframes list\n",
    "    processed_dfs = []\n",
    "    \n",
    "    # Process each dataframe\n",
    "    for df_idx, (df, keep_cols, new_cols, add_index, idx_name) in enumerate(\n",
    "        zip(dfs, columns_to_keep, new_column_names, use_index, index_names)\n",
    "    ):\n",
    "        # Validate column name mappings\n",
    "        if len(keep_cols) != len(new_cols):\n",
    "            raise ValueError(\n",
    "                f\"Mismatched column counts in dataframe at index {df_idx}: \"\n",
    "                f\"columns_to_keep: {len(keep_cols)}, new_column_names: {len(new_cols)}\"\n",
    "            )\n",
    "        \n",
    "        # Create column name mapping\n",
    "        col_mapping = dict(zip(keep_cols, new_cols))\n",
    "        \n",
    "        # Create new dataframe for processed rows\n",
    "        processed_df = []\n",
    "        \n",
    "        # Process each row in the dataframe\n",
    "        for row_idx, row in enumerate(df):   \n",
    "            # Create new row with only desired columns and renamed\n",
    "            new_row = {\n",
    "                new_name: copy.deepcopy(row[old_name])\n",
    "                for old_name, new_name in col_mapping.items()\n",
    "            }\n",
    "            \n",
    "            # Add index if requested\n",
    "            if add_index:\n",
    "                new_row = {idx_name: row_idx+1, **new_row}\n",
    "                \n",
    "            # Add processed row to new dataframe\n",
    "            processed_df.append(new_row)\n",
    "        \n",
    "        # Add processed dataframe to result list\n",
    "        processed_dfs.append(processed_df)\n",
    "    \n",
    "    return processed_dfs"
   ]
  },
  {
   "cell_type": "code",
   "execution_count": 36,
   "metadata": {},
   "outputs": [],
   "source": [
    "results = create_dict_for_table(\n",
    "    dfs=[people_df],\n",
    "    columns_to_keep=[[\"PERSON_TYPE\",\"SEX\",\"AGE\", \"SAFETY_EQUIPMENT\",\"AIRBAG_DEPLOYED\",\n",
    "      \"DRIVER_ACTION\", \"PHYSICAL_CONDITION\", \"INJURY_CLASSIFICATION\",\n",
    "     \"BAC_RESULT\", \"CITY\",\"STATE\",\n",
    "    ]],\n",
    "    new_column_names=[[\"Type\", \"Sex\", \"Age\", \"Safety_Equipment\", \"Airbag_Deployment_Status\",\n",
    "      \"Driver_Action\", \"Physical_Condition\", \"Injury_Classification\",\n",
    "      \"BAC_Result\", \"City\", \"State\"]],\n",
    "    use_index=[True],\n",
    "    index_names= [\"Person_ID\"]\n",
    ")"
   ]
  },
  {
   "cell_type": "code",
   "execution_count": 37,
   "metadata": {},
   "outputs": [],
   "source": [
    "people = results[0]"
   ]
  },
  {
   "cell_type": "code",
   "execution_count": 38,
   "metadata": {},
   "outputs": [
    {
     "name": "stdout",
     "output_type": "stream",
     "text": [
      "Saving data at filepath: dw_tables_csv/Person.csv\n"
     ]
    }
   ],
   "source": [
    "to_csv_v2(people, \"dw_tables_csv/Person.csv\")"
   ]
  }
 ],
 "metadata": {
  "kernelspec": {
   "display_name": "Python 3",
   "language": "python",
   "name": "python3"
  },
  "language_info": {
   "codemirror_mode": {
    "name": "ipython",
    "version": 3
   },
   "file_extension": ".py",
   "mimetype": "text/x-python",
   "name": "python",
   "nbconvert_exporter": "python",
   "pygments_lexer": "ipython3",
   "version": "3.9.13"
  }
 },
 "nbformat": 4,
 "nbformat_minor": 2
}
