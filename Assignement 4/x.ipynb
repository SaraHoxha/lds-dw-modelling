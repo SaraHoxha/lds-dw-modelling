{
 "cells": [
  {
   "cell_type": "code",
   "execution_count": 1,
   "metadata": {},
   "outputs": [],
   "source": [
    "import pandas as pd"
   ]
  },
  {
   "cell_type": "code",
   "execution_count": 2,
   "metadata": {},
   "outputs": [],
   "source": [
    "processedFileString = '_Processed.csv'\n",
    "people_df=pd.read_csv('../data/People'+processedFileString)\n",
    "vehicles_df=pd.read_csv('../data/Vehicles'+processedFileString)\n",
    "crashes_df=pd.read_csv('../data/Crashes'+processedFileString)"
   ]
  },
  {
   "cell_type": "code",
   "execution_count": 10,
   "metadata": {},
   "outputs": [
    {
     "data": {
      "text/plain": [
       "(564241, 23)"
      ]
     },
     "execution_count": 10,
     "metadata": {},
     "output_type": "execute_result"
    }
   ],
   "source": [
    "people_df.shape"
   ]
  },
  {
   "cell_type": "code",
   "execution_count": 9,
   "metadata": {},
   "outputs": [],
   "source": [
    "mergeKey = \"RD_NO\"\n",
    "howValue = \"outer\"\n",
    "result = (people_df.merge(vehicles_df, on=mergeKey, how=howValue)).merge(vehicles_df, on=mergeKey, how=howValue)"
   ]
  },
  {
   "cell_type": "code",
   "execution_count": 11,
   "metadata": {},
   "outputs": [
    {
     "data": {
      "text/plain": [
       "(2254891, 63)"
      ]
     },
     "execution_count": 11,
     "metadata": {},
     "output_type": "execute_result"
    }
   ],
   "source": [
    "result.shape"
   ]
  },
  {
   "cell_type": "code",
   "execution_count": 13,
   "metadata": {},
   "outputs": [
    {
     "data": {
      "text/plain": [
       "Index(['PERSON_ID', 'PERSON_TYPE', 'RD_NO', 'VEHICLE_ID_x', 'CRASH_DATE_x',\n",
       "       'CITY', 'STATE', 'SEX', 'AGE', 'SAFETY_EQUIPMENT', 'AIRBAG_DEPLOYED',\n",
       "       'EJECTION', 'INJURY_CLASSIFICATION', 'DRIVER_ACTION', 'DRIVER_VISION',\n",
       "       'PHYSICAL_CONDITION', 'BAC_RESULT', 'DAMAGE_CATEGORY', 'DAMAGE',\n",
       "       'YEAR_x', 'MONTH_x', 'DAY_x', 'TIME_x', 'CRASH_UNIT_ID_x',\n",
       "       'CRASH_DATE_y', 'UNIT_NO_x', 'UNIT_TYPE_x', 'VEHICLE_ID_y', 'MAKE_x',\n",
       "       'MODEL_x', 'LIC_PLATE_STATE_x', 'VEHICLE_YEAR_x', 'VEHICLE_DEFECT_x',\n",
       "       'VEHICLE_TYPE_x', 'VEHICLE_USE_x', 'TRAVEL_DIRECTION_x', 'MANEUVER_x',\n",
       "       'OCCUPANT_CNT_x', 'FIRST_CONTACT_POINT_x', 'YEAR_y', 'MONTH_y', 'DAY_y',\n",
       "       'TIME_y', 'CRASH_UNIT_ID_y', 'CRASH_DATE', 'UNIT_NO_y', 'UNIT_TYPE_y',\n",
       "       'VEHICLE_ID', 'MAKE_y', 'MODEL_y', 'LIC_PLATE_STATE_y',\n",
       "       'VEHICLE_YEAR_y', 'VEHICLE_DEFECT_y', 'VEHICLE_TYPE_y', 'VEHICLE_USE_y',\n",
       "       'TRAVEL_DIRECTION_y', 'MANEUVER_y', 'OCCUPANT_CNT_y',\n",
       "       'FIRST_CONTACT_POINT_y', 'YEAR', 'MONTH', 'DAY', 'TIME'],\n",
       "      dtype='object')"
      ]
     },
     "execution_count": 13,
     "metadata": {},
     "output_type": "execute_result"
    }
   ],
   "source": [
    "result.columns"
   ]
  },
  {
   "cell_type": "code",
   "execution_count": 14,
   "metadata": {},
   "outputs": [],
   "source": []
  },
  {
   "cell_type": "code",
   "execution_count": 15,
   "metadata": {},
   "outputs": [
    {
     "name": "stdout",
     "output_type": "stream",
     "text": [
      "[{'id': 1, 'name': 'Alice'}, {'id': 2, 'name': 'Bob', 'age': 23}, {'id': 3, 'age': 34}]\n"
     ]
    }
   ],
   "source": [
    "\n",
    "\n",
    "result = outer_join(data1, data2, \"id\")\n",
    "print(result)\n"
   ]
  }
 ],
 "metadata": {
  "kernelspec": {
   "display_name": "Python 3",
   "language": "python",
   "name": "python3"
  },
  "language_info": {
   "codemirror_mode": {
    "name": "ipython",
    "version": 3
   },
   "file_extension": ".py",
   "mimetype": "text/x-python",
   "name": "python",
   "nbconvert_exporter": "python",
   "pygments_lexer": "ipython3",
   "version": "3.9.13"
  }
 },
 "nbformat": 4,
 "nbformat_minor": 2
}
