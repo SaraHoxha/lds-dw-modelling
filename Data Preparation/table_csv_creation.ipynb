{
 "cells": [
  {
   "cell_type": "code",
   "execution_count": null,
   "metadata": {},
   "outputs": [
    {
     "ename": "NameError",
     "evalue": "name 'List' is not defined",
     "output_type": "error",
     "traceback": [
      "\u001b[0;31m---------------------------------------------------------------------------\u001b[0m",
      "\u001b[0;31mNameError\u001b[0m                                 Traceback (most recent call last)",
      "Cell \u001b[0;32mIn[1], line 2\u001b[0m\n\u001b[1;32m      1\u001b[0m \u001b[38;5;28;01mdef\u001b[39;00m \u001b[38;5;21mcreate_dict_for_table\u001b[39m(\n\u001b[0;32m----> 2\u001b[0m     dfs: List[List[Dict[\u001b[38;5;28mstr\u001b[39m, Any]]],\n\u001b[1;32m      3\u001b[0m     columns_to_keep: List[List[\u001b[38;5;28mstr\u001b[39m]],\n\u001b[1;32m      4\u001b[0m     new_column_names: List[List[\u001b[38;5;28mstr\u001b[39m]],\n\u001b[1;32m      5\u001b[0m     use_index: List[\u001b[38;5;28mbool\u001b[39m],\n\u001b[1;32m      6\u001b[0m     index_names: List[\u001b[38;5;28mstr\u001b[39m]\n\u001b[1;32m      7\u001b[0m ) \u001b[38;5;241m-\u001b[39m\u001b[38;5;241m>\u001b[39m List[List[Dict[\u001b[38;5;28mstr\u001b[39m, Any]]]:\n\u001b[1;32m      8\u001b[0m \u001b[38;5;250m    \u001b[39m\u001b[38;5;124;03m\"\"\"\u001b[39;00m\n\u001b[1;32m      9\u001b[0m \u001b[38;5;124;03m    Process multiple lists of dictionaries by keeping selected columns, renaming them,\u001b[39;00m\n\u001b[1;32m     10\u001b[0m \u001b[38;5;124;03m    and optionally adding index columns. Creates deep copies of input dataframes to avoid\u001b[39;00m\n\u001b[0;32m   (...)\u001b[0m\n\u001b[1;32m     24\u001b[0m \u001b[38;5;124;03m        ValueError: If input lists have inconsistent lengths or column mappings\u001b[39;00m\n\u001b[1;32m     25\u001b[0m \u001b[38;5;124;03m    \"\"\"\u001b[39;00m\n\u001b[1;32m     26\u001b[0m     \u001b[38;5;66;03m# Validate input lengths\u001b[39;00m\n",
      "\u001b[0;31mNameError\u001b[0m: name 'List' is not defined"
     ]
    }
   ],
   "source": [
    "from typing import List, Dict, Any\n",
    "from collections import OrderedDict\n",
    "import copy\n",
    "\n",
    "def create_dict_for_table(\n",
    "    dfs: List[List[Dict[str, Any]]],\n",
    "    columns_to_keep: List[List[str]],\n",
    "    new_column_names: List[List[str]],\n",
    "    use_index: List[bool],\n",
    "    index_names: List[str]\n",
    ") -> List[List[Dict[str, Any]]]:\n",
    "    \"\"\"\n",
    "    Process multiple lists of dictionaries by keeping selected columns, renaming them,\n",
    "    and optionally adding index columns. Creates deep copies of input dataframes to avoid\n",
    "    modifying original data.\n",
    "    \n",
    "    Args:\n",
    "        dfs: List of dataframes (each dataframe is a list of dictionaries)\n",
    "        columns_to_keep: List of lists containing column names to retain for each dataframe\n",
    "        new_column_names: List of lists containing new names for retained columns\n",
    "        use_index: List of booleans indicating whether to add index column for each dataframe\n",
    "        index_names: List of names for index columns\n",
    "    \n",
    "    Returns:\n",
    "        List of processed dataframes with copied and transformed data\n",
    "        \n",
    "    Raises:\n",
    "        ValueError: If input lists have inconsistent lengths or column mappings\n",
    "    \"\"\"\n",
    "    # Validate input lengths\n",
    "    input_lengths = [len(x) for x in (dfs, columns_to_keep, new_column_names, use_index, index_names)]\n",
    "    if len(set(input_lengths)) > 1:\n",
    "        raise ValueError(\n",
    "            f\"Inconsistent input lengths:\\n\"\n",
    "            f\"dfs: {input_lengths[0]}, columns_to_keep: {input_lengths[1]}, \"\n",
    "            f\"new_column_names: {input_lengths[2]}, use_index: {input_lengths[3]}, \"\n",
    "            f\"index_names: {input_lengths[4]}\"\n",
    "        )\n",
    "    \n",
    "    # Create a deep copy of the input dataframes list\n",
    "    processed_dfs = []\n",
    "    \n",
    "    # Process each dataframe\n",
    "    for df_idx, (df, keep_cols, new_cols, add_index, idx_name) in enumerate(\n",
    "        zip(dfs, columns_to_keep, new_column_names, use_index, index_names)\n",
    "    ):\n",
    "        # Validate column name mappings\n",
    "        if len(keep_cols) != len(new_cols):\n",
    "            raise ValueError(\n",
    "                f\"Mismatched column counts in dataframe at index {df_idx}: \"\n",
    "                f\"columns_to_keep: {len(keep_cols)}, new_column_names: {len(new_cols)}\"\n",
    "            )\n",
    "        \n",
    "        # Create column name mapping\n",
    "        col_mapping = dict(zip(keep_cols, new_cols))\n",
    "        \n",
    "        # Create new dataframe for processed rows\n",
    "        processed_df = []\n",
    "        \n",
    "        # Process each row in the dataframe\n",
    "        for row_idx, row in enumerate(df):\n",
    "            # Create new row with only desired columns and renamed\n",
    "            new_row = {\n",
    "                new_name: copy.deepcopy(row[old_name])\n",
    "                for old_name, new_name in col_mapping.items()\n",
    "            }\n",
    "            \n",
    "            # Add index if requested\n",
    "            if add_index:\n",
    "                new_row[idx_name] = row_idx\n",
    "                \n",
    "            # Add processed row to new dataframe\n",
    "            processed_df.append(new_row)\n",
    "        \n",
    "        # Add processed dataframe to result list\n",
    "        processed_dfs.append(processed_df)\n",
    "    \n",
    "    return processed_dfs"
   ]
  },
  {
   "cell_type": "code",
   "execution_count": 3,
   "metadata": {},
   "outputs": [
    {
     "name": "stdout",
     "output_type": "stream",
     "text": [
      "Reading csv Crashes_Processed.csv\n"
     ]
    }
   ],
   "source": [
    "from utils.read_write import read_csv_v2\n",
    "from utils.utils import create_table_file\n",
    "\n",
    "CRASHES_CSV = read_csv_v2('../data/Crashes_Processed.csv')\n",
    "            \n",
    "INJURY_FILE_PATH = 'dw_tables_csv/Injury.csv'\n",
    "INJURY_INDEX_COL = 'Injury_ID'\n",
    "INJURY_COLUMNS = ['Injuries_Total', 'Injuries_Fatal', 'Injuries_Incapacitating', 'Injuries_Non_Incapacitating', 'Injuries_No_Indication', 'Injuries_Reported_Not_Evident', 'Injuries_Unknown']\n",
    "\n",
    "create_table_file(CRASHES_CSV, INJURY_FILE_PATH, INJURY_INDEX_COL,  INJURY_COLUMNS)\n",
    "\n",
    "CRASH_LOCATION_FILE_PATH = 'dw_tables_csv/CrashLocation.csv'\n",
    "CRASH_LOCATION_INDEX_COL = 'Crash_Location_ID'\n",
    "CRASH_LOCATION_NEW_COLUMNS = ['Street', 'Street_No', 'Street_Direction', 'Beat_Of_Occurrence', 'Latitude', 'Longitude', 'Location']\n",
    "CRASH_LOCATION_OG_COLUMNS = ['Street_Name', 'Street_No', 'Street_Direction', 'Beat_Of_Occurrence', 'Latitude', 'Longitude', 'Location']\n",
    "create_table_file(CRASHES_CSV, CRASH_LOCATION_FILE_PATH, CRASH_LOCATION_INDEX_COL, CRASH_LOCATION_NEW_COLUMNS, CRASH_LOCATION_OG_COLUMNS)\n",
    "\n",
    "CRASH_CONDITION_FILE_PATH = 'dw_tables_csv/CrashCondition.csv'\n",
    "CRASH_CONDITION_INDEX_COL = 'Crash_Condition_ID'\n",
    "CRASH_CONDITION_NEW_COLUMNS = ['Posted_Speed_Limit', 'Traffic_Control_Device', 'Traffic_Control_Device_Condition', 'Weather_Condition', 'Lighting_Condition', 'Trafficway_Type', 'Roadway_Surface_Condition', 'Road_Defect', 'Alignment']\n",
    "CRASH_CONDITION_OG_COLUMNS = ['Posted_Speed_Limit','Traffic_Control_Device', 'Device_Condition', 'Weather_Condition', 'Lighting_Condition', 'Trafficway_Type', 'Roadway_Surface_Cond', 'Road_Defect', 'Alignment']\n",
    "\n",
    "create_table_file(CRASHES_CSV, CRASH_CONDITION_FILE_PATH, CRASH_CONDITION_INDEX_COL, CRASH_CONDITION_NEW_COLUMNS, CRASH_CONDITION_OG_COLUMNS)"
   ]
  }
 ],
 "metadata": {
  "kernelspec": {
   "display_name": "base",
   "language": "python",
   "name": "python3"
  },
  "language_info": {
   "codemirror_mode": {
    "name": "ipython",
    "version": 3
   },
   "file_extension": ".py",
   "mimetype": "text/x-python",
   "name": "python",
   "nbconvert_exporter": "python",
   "pygments_lexer": "ipython3",
   "version": "3.12.7"
  }
 },
 "nbformat": 4,
 "nbformat_minor": 2
}
