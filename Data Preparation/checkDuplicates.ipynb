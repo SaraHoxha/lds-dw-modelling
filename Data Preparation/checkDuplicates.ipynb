{
 "cells": [
  {
   "cell_type": "code",
   "execution_count": 1,
   "metadata": {},
   "outputs": [],
   "source": [
    "import pandas as pd\n",
    "import os"
   ]
  },
  {
   "cell_type": "code",
   "execution_count": 2,
   "metadata": {},
   "outputs": [],
   "source": [
    "folderPath = \"dw_tables_csv\"\n",
    "files = [\"CrashCondition\", \"CrashLocation\", \"DateTime\", \"Injury\", \"Person\"]"
   ]
  },
  {
   "cell_type": "code",
   "execution_count": 3,
   "metadata": {},
   "outputs": [],
   "source": [
    "def remove_id_col (cols):\n",
    "    newCols = []\n",
    "    for col in cols:\n",
    "        if not \"ID\" in col:\n",
    "            newCols.append(col)\n",
    "    return newCols"
   ]
  },
  {
   "cell_type": "code",
   "execution_count": 6,
   "metadata": {},
   "outputs": [
    {
     "name": "stdout",
     "output_type": "stream",
     "text": [
      "CrashCondition 0\n",
      "Total size 182997\n",
      "CrashLocation 0\n",
      "Total size 976318\n",
      "DateTime 0\n",
      "Total size 1173116\n",
      "CrashInjury 0\n",
      "Total size 3066\n",
      "Person 0\n",
      "Total size 1702107\n"
     ]
    }
   ],
   "source": [
    "for fileName in files:\n",
    "    path = os.path.join(folderPath, fileName + \".csv\")\n",
    "    df = pd.read_csv(path)\n",
    "    df = df[remove_id_col(df.columns)]\n",
    "    print (fileName, df.duplicated().sum())\n",
    "    print (\"Total size\", df.size)"
   ]
  }
 ],
 "metadata": {
  "kernelspec": {
   "display_name": "Python 3",
   "language": "python",
   "name": "python3"
  },
  "language_info": {
   "codemirror_mode": {
    "name": "ipython",
    "version": 3
   },
   "file_extension": ".py",
   "mimetype": "text/x-python",
   "name": "python",
   "nbconvert_exporter": "python",
   "pygments_lexer": "ipython3",
   "version": "3.9.13"
  }
 },
 "nbformat": 4,
 "nbformat_minor": 2
}
