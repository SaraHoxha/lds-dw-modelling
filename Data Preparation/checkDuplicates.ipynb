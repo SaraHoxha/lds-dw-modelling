{
 "cells": [
  {
   "cell_type": "code",
   "execution_count": 31,
   "metadata": {},
   "outputs": [],
   "source": [
    "import pandas as pd\n",
    "import os"
   ]
  },
  {
   "cell_type": "code",
   "execution_count": 32,
   "metadata": {},
   "outputs": [],
   "source": [
    "folderPath = \"dw_tables_csv\"\n",
    "files = [\"CrashCondition\", \"CrashLocation\", \"DateTime\", \"Injury\", \"Person\"]\n",
    "specialFiles = [\"Crash\"]\n",
    "specialKeysToIgnore = [\"Crash_Condition_ID\"]"
   ]
  },
  {
   "cell_type": "code",
   "execution_count": 33,
   "metadata": {},
   "outputs": [],
   "source": [
    "def remove_id_col (cols):\n",
    "    newCols = []\n",
    "    for col in cols:\n",
    "        if not \"ID\" in col:\n",
    "            newCols.append(col)\n",
    "    return newCols"
   ]
  },
  {
   "cell_type": "code",
   "execution_count": 34,
   "metadata": {},
   "outputs": [
    {
     "name": "stdout",
     "output_type": "stream",
     "text": [
      "CrashCondition 0\n",
      "Total size 20333\n",
      "CrashLocation 0\n",
      "Total size 139474\n",
      "DateTime 0\n",
      "Total size 293279\n",
      "Injury 0\n",
      "Total size 438\n",
      "Person 0\n",
      "Total size 154737\n",
      "Crash 0\n",
      "Total size 257925\n"
     ]
    }
   ],
   "source": [
    "for fileName in files:\n",
    "    path = os.path.join(folderPath, fileName + \".csv\")\n",
    "    df = pd.read_csv(path)\n",
    "    df = df[remove_id_col(df.columns)]\n",
    "    print (fileName, df.duplicated().sum())\n",
    "    print (\"Total size\", len(df))\n",
    "\n",
    "for fileName, key in zip(specialFiles, specialKeysToIgnore):\n",
    "    path = os.path.join(folderPath, fileName + \".csv\")\n",
    "    df = pd.read_csv(path)\n",
    "    df = df[[col for col in df.columns if col != key]]\n",
    "    print (fileName, df.duplicated().sum())\n",
    "    print (\"Total size\", len(df))"
   ]
  }
 ],
 "metadata": {
  "kernelspec": {
   "display_name": "Python 3",
   "language": "python",
   "name": "python3"
  },
  "language_info": {
   "codemirror_mode": {
    "name": "ipython",
    "version": 3
   },
   "file_extension": ".py",
   "mimetype": "text/x-python",
   "name": "python",
   "nbconvert_exporter": "python",
   "pygments_lexer": "ipython3",
   "version": "3.9.13"
  }
 },
 "nbformat": 4,
 "nbformat_minor": 2
}
