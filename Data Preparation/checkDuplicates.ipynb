{
 "cells": [
  {
   "cell_type": "code",
   "execution_count": 5,
   "metadata": {},
   "outputs": [],
   "source": [
    "import pandas as pd\n",
    "import os"
   ]
  },
  {
   "cell_type": "code",
   "execution_count": 6,
   "metadata": {},
   "outputs": [],
   "source": [
    "folderPath = \"dw_tables_csv\"\n",
    "files = [\"CrashCondition\", \"CrashLocation\", \"DateTime\", \"Injury\", \"Person\"]"
   ]
  },
  {
   "cell_type": "code",
   "execution_count": 7,
   "metadata": {},
   "outputs": [],
   "source": [
    "def remove_id_col (cols):\n",
    "    newCols = []\n",
    "    for col in cols:\n",
    "        if not \"ID\" in col:\n",
    "            newCols.append(col)\n",
    "    return newCols"
   ]
  },
  {
   "cell_type": "code",
   "execution_count": 8,
   "metadata": {},
   "outputs": [
    {
     "name": "stdout",
     "output_type": "stream",
     "text": [
      "CrashCondition 0\n",
      "CrashLocation 0\n",
      "DateTime 0\n",
      "Injury 0\n",
      "Person 0\n"
     ]
    }
   ],
   "source": [
    "for fileName in files:\n",
    "    path = os.path.join(folderPath, fileName + \".csv\")\n",
    "    df = pd.read_csv(path)\n",
    "    df = df[remove_id_col(df.columns)]\n",
    "    print (fileName, df.duplicated().sum())"
   ]
  }
 ],
 "metadata": {
  "kernelspec": {
   "display_name": "Python 3",
   "language": "python",
   "name": "python3"
  },
  "language_info": {
   "codemirror_mode": {
    "name": "ipython",
    "version": 3
   },
   "file_extension": ".py",
   "mimetype": "text/x-python",
   "name": "python",
   "nbconvert_exporter": "python",
   "pygments_lexer": "ipython3",
   "version": "3.9.13"
  }
 },
 "nbformat": 4,
 "nbformat_minor": 2
}
